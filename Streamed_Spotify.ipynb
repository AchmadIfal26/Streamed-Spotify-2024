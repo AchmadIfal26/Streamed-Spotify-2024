{
  "nbformat": 4,
  "nbformat_minor": 0,
  "metadata": {
    "colab": {
      "provenance": []
    },
    "kernelspec": {
      "name": "python3",
      "display_name": "Python 3"
    },
    "language_info": {
      "name": "python"
    }
  },
  "cells": [
    {
      "cell_type": "markdown",
      "source": [
        "# Import Library"
      ],
      "metadata": {
        "id": "BNDCxmUM0rKA"
      }
    },
    {
      "cell_type": "code",
      "execution_count": 38,
      "metadata": {
        "id": "S4feVrSz0gof"
      },
      "outputs": [],
      "source": [
        "import pandas as pd\n",
        "import numpy as np\n",
        "import matplotlib.pyplot as plt\n",
        "import seaborn as sns"
      ]
    },
    {
      "cell_type": "markdown",
      "source": [
        "# Import data"
      ],
      "metadata": {
        "id": "yrfKZb4w09l6"
      }
    },
    {
      "cell_type": "code",
      "source": [
        "spotify = pd.read_csv('/content/Streamed Spotify 2024.csv', encoding='latin-1')\n",
        "spotify.head()"
      ],
      "metadata": {
        "colab": {
          "base_uri": "https://localhost:8080/",
          "height": 429
        },
        "id": "glsNnwaR08sb",
        "outputId": "77eb340f-3dc4-4f7e-9e2f-aa97ed413fb8"
      },
      "execution_count": 39,
      "outputs": [
        {
          "output_type": "execute_result",
          "data": {
            "text/plain": [
              "                        Track                    Album Name          Artist  \\\n",
              "0         MILLION DOLLAR BABY  Million Dollar Baby - Single   Tommy Richman   \n",
              "1                 Not Like Us                   Not Like Us  Kendrick Lamar   \n",
              "2  i like the way you kiss me    I like the way you kiss me         Artemas   \n",
              "3                     Flowers              Flowers - Single     Miley Cyrus   \n",
              "4                     Houdini                       Houdini          Eminem   \n",
              "\n",
              "  Release Date          ISRC All Time Rank  Track Score Spotify Streams  \\\n",
              "0    4/26/2024  QM24S2402528             1        725.4     390,470,936   \n",
              "1     5/4/2024  USUG12400910             2        545.9     323,703,884   \n",
              "2    3/19/2024  QZJ842400387             3        538.4     601,309,283   \n",
              "3    1/12/2023  USSM12209777             4        444.9   2,031,280,633   \n",
              "4    5/31/2024  USUG12403398             5        423.3     107,034,922   \n",
              "\n",
              "  Spotify Playlist Count Spotify Playlist Reach  ...  SiriusXM Spins  \\\n",
              "0                 30,716            196,631,588  ...             684   \n",
              "1                 28,113            174,597,137  ...               3   \n",
              "2                 54,331            211,607,669  ...             536   \n",
              "3                269,802            136,569,078  ...           2,182   \n",
              "4                  7,223            151,469,874  ...               1   \n",
              "\n",
              "  Deezer Playlist Count Deezer Playlist Reach Amazon Playlist Count  \\\n",
              "0                  62.0            17,598,718                 114.0   \n",
              "1                  67.0            10,422,430                 111.0   \n",
              "2                 136.0            36,321,847                 172.0   \n",
              "3                 264.0            24,684,248                 210.0   \n",
              "4                  82.0            17,660,624                 105.0   \n",
              "\n",
              "  Pandora Streams Pandora Track Stations Soundcloud Streams  Shazam Counts  \\\n",
              "0      18,004,655                 22,931          4,818,457      2,669,262   \n",
              "1       7,780,028                 28,444          6,623,075      1,118,279   \n",
              "2       5,022,621                  5,639          7,208,651      5,285,340   \n",
              "3     190,260,277                203,384                NaN     11,822,942   \n",
              "4       4,493,884                  7,006            207,179        457,017   \n",
              "\n",
              "  TIDAL Popularity Explicit Track  \n",
              "0              NaN              0  \n",
              "1              NaN              1  \n",
              "2              NaN              0  \n",
              "3              NaN              0  \n",
              "4              NaN              1  \n",
              "\n",
              "[5 rows x 29 columns]"
            ],
            "text/html": [
              "\n",
              "  <div id=\"df-1ac83a48-b0d1-4509-baa7-8dc4205be6aa\" class=\"colab-df-container\">\n",
              "    <div>\n",
              "<style scoped>\n",
              "    .dataframe tbody tr th:only-of-type {\n",
              "        vertical-align: middle;\n",
              "    }\n",
              "\n",
              "    .dataframe tbody tr th {\n",
              "        vertical-align: top;\n",
              "    }\n",
              "\n",
              "    .dataframe thead th {\n",
              "        text-align: right;\n",
              "    }\n",
              "</style>\n",
              "<table border=\"1\" class=\"dataframe\">\n",
              "  <thead>\n",
              "    <tr style=\"text-align: right;\">\n",
              "      <th></th>\n",
              "      <th>Track</th>\n",
              "      <th>Album Name</th>\n",
              "      <th>Artist</th>\n",
              "      <th>Release Date</th>\n",
              "      <th>ISRC</th>\n",
              "      <th>All Time Rank</th>\n",
              "      <th>Track Score</th>\n",
              "      <th>Spotify Streams</th>\n",
              "      <th>Spotify Playlist Count</th>\n",
              "      <th>Spotify Playlist Reach</th>\n",
              "      <th>...</th>\n",
              "      <th>SiriusXM Spins</th>\n",
              "      <th>Deezer Playlist Count</th>\n",
              "      <th>Deezer Playlist Reach</th>\n",
              "      <th>Amazon Playlist Count</th>\n",
              "      <th>Pandora Streams</th>\n",
              "      <th>Pandora Track Stations</th>\n",
              "      <th>Soundcloud Streams</th>\n",
              "      <th>Shazam Counts</th>\n",
              "      <th>TIDAL Popularity</th>\n",
              "      <th>Explicit Track</th>\n",
              "    </tr>\n",
              "  </thead>\n",
              "  <tbody>\n",
              "    <tr>\n",
              "      <th>0</th>\n",
              "      <td>MILLION DOLLAR BABY</td>\n",
              "      <td>Million Dollar Baby - Single</td>\n",
              "      <td>Tommy Richman</td>\n",
              "      <td>4/26/2024</td>\n",
              "      <td>QM24S2402528</td>\n",
              "      <td>1</td>\n",
              "      <td>725.4</td>\n",
              "      <td>390,470,936</td>\n",
              "      <td>30,716</td>\n",
              "      <td>196,631,588</td>\n",
              "      <td>...</td>\n",
              "      <td>684</td>\n",
              "      <td>62.0</td>\n",
              "      <td>17,598,718</td>\n",
              "      <td>114.0</td>\n",
              "      <td>18,004,655</td>\n",
              "      <td>22,931</td>\n",
              "      <td>4,818,457</td>\n",
              "      <td>2,669,262</td>\n",
              "      <td>NaN</td>\n",
              "      <td>0</td>\n",
              "    </tr>\n",
              "    <tr>\n",
              "      <th>1</th>\n",
              "      <td>Not Like Us</td>\n",
              "      <td>Not Like Us</td>\n",
              "      <td>Kendrick Lamar</td>\n",
              "      <td>5/4/2024</td>\n",
              "      <td>USUG12400910</td>\n",
              "      <td>2</td>\n",
              "      <td>545.9</td>\n",
              "      <td>323,703,884</td>\n",
              "      <td>28,113</td>\n",
              "      <td>174,597,137</td>\n",
              "      <td>...</td>\n",
              "      <td>3</td>\n",
              "      <td>67.0</td>\n",
              "      <td>10,422,430</td>\n",
              "      <td>111.0</td>\n",
              "      <td>7,780,028</td>\n",
              "      <td>28,444</td>\n",
              "      <td>6,623,075</td>\n",
              "      <td>1,118,279</td>\n",
              "      <td>NaN</td>\n",
              "      <td>1</td>\n",
              "    </tr>\n",
              "    <tr>\n",
              "      <th>2</th>\n",
              "      <td>i like the way you kiss me</td>\n",
              "      <td>I like the way you kiss me</td>\n",
              "      <td>Artemas</td>\n",
              "      <td>3/19/2024</td>\n",
              "      <td>QZJ842400387</td>\n",
              "      <td>3</td>\n",
              "      <td>538.4</td>\n",
              "      <td>601,309,283</td>\n",
              "      <td>54,331</td>\n",
              "      <td>211,607,669</td>\n",
              "      <td>...</td>\n",
              "      <td>536</td>\n",
              "      <td>136.0</td>\n",
              "      <td>36,321,847</td>\n",
              "      <td>172.0</td>\n",
              "      <td>5,022,621</td>\n",
              "      <td>5,639</td>\n",
              "      <td>7,208,651</td>\n",
              "      <td>5,285,340</td>\n",
              "      <td>NaN</td>\n",
              "      <td>0</td>\n",
              "    </tr>\n",
              "    <tr>\n",
              "      <th>3</th>\n",
              "      <td>Flowers</td>\n",
              "      <td>Flowers - Single</td>\n",
              "      <td>Miley Cyrus</td>\n",
              "      <td>1/12/2023</td>\n",
              "      <td>USSM12209777</td>\n",
              "      <td>4</td>\n",
              "      <td>444.9</td>\n",
              "      <td>2,031,280,633</td>\n",
              "      <td>269,802</td>\n",
              "      <td>136,569,078</td>\n",
              "      <td>...</td>\n",
              "      <td>2,182</td>\n",
              "      <td>264.0</td>\n",
              "      <td>24,684,248</td>\n",
              "      <td>210.0</td>\n",
              "      <td>190,260,277</td>\n",
              "      <td>203,384</td>\n",
              "      <td>NaN</td>\n",
              "      <td>11,822,942</td>\n",
              "      <td>NaN</td>\n",
              "      <td>0</td>\n",
              "    </tr>\n",
              "    <tr>\n",
              "      <th>4</th>\n",
              "      <td>Houdini</td>\n",
              "      <td>Houdini</td>\n",
              "      <td>Eminem</td>\n",
              "      <td>5/31/2024</td>\n",
              "      <td>USUG12403398</td>\n",
              "      <td>5</td>\n",
              "      <td>423.3</td>\n",
              "      <td>107,034,922</td>\n",
              "      <td>7,223</td>\n",
              "      <td>151,469,874</td>\n",
              "      <td>...</td>\n",
              "      <td>1</td>\n",
              "      <td>82.0</td>\n",
              "      <td>17,660,624</td>\n",
              "      <td>105.0</td>\n",
              "      <td>4,493,884</td>\n",
              "      <td>7,006</td>\n",
              "      <td>207,179</td>\n",
              "      <td>457,017</td>\n",
              "      <td>NaN</td>\n",
              "      <td>1</td>\n",
              "    </tr>\n",
              "  </tbody>\n",
              "</table>\n",
              "<p>5 rows × 29 columns</p>\n",
              "</div>\n",
              "    <div class=\"colab-df-buttons\">\n",
              "\n",
              "  <div class=\"colab-df-container\">\n",
              "    <button class=\"colab-df-convert\" onclick=\"convertToInteractive('df-1ac83a48-b0d1-4509-baa7-8dc4205be6aa')\"\n",
              "            title=\"Convert this dataframe to an interactive table.\"\n",
              "            style=\"display:none;\">\n",
              "\n",
              "  <svg xmlns=\"http://www.w3.org/2000/svg\" height=\"24px\" viewBox=\"0 -960 960 960\">\n",
              "    <path d=\"M120-120v-720h720v720H120Zm60-500h600v-160H180v160Zm220 220h160v-160H400v160Zm0 220h160v-160H400v160ZM180-400h160v-160H180v160Zm440 0h160v-160H620v160ZM180-180h160v-160H180v160Zm440 0h160v-160H620v160Z\"/>\n",
              "  </svg>\n",
              "    </button>\n",
              "\n",
              "  <style>\n",
              "    .colab-df-container {\n",
              "      display:flex;\n",
              "      gap: 12px;\n",
              "    }\n",
              "\n",
              "    .colab-df-convert {\n",
              "      background-color: #E8F0FE;\n",
              "      border: none;\n",
              "      border-radius: 50%;\n",
              "      cursor: pointer;\n",
              "      display: none;\n",
              "      fill: #1967D2;\n",
              "      height: 32px;\n",
              "      padding: 0 0 0 0;\n",
              "      width: 32px;\n",
              "    }\n",
              "\n",
              "    .colab-df-convert:hover {\n",
              "      background-color: #E2EBFA;\n",
              "      box-shadow: 0px 1px 2px rgba(60, 64, 67, 0.3), 0px 1px 3px 1px rgba(60, 64, 67, 0.15);\n",
              "      fill: #174EA6;\n",
              "    }\n",
              "\n",
              "    .colab-df-buttons div {\n",
              "      margin-bottom: 4px;\n",
              "    }\n",
              "\n",
              "    [theme=dark] .colab-df-convert {\n",
              "      background-color: #3B4455;\n",
              "      fill: #D2E3FC;\n",
              "    }\n",
              "\n",
              "    [theme=dark] .colab-df-convert:hover {\n",
              "      background-color: #434B5C;\n",
              "      box-shadow: 0px 1px 3px 1px rgba(0, 0, 0, 0.15);\n",
              "      filter: drop-shadow(0px 1px 2px rgba(0, 0, 0, 0.3));\n",
              "      fill: #FFFFFF;\n",
              "    }\n",
              "  </style>\n",
              "\n",
              "    <script>\n",
              "      const buttonEl =\n",
              "        document.querySelector('#df-1ac83a48-b0d1-4509-baa7-8dc4205be6aa button.colab-df-convert');\n",
              "      buttonEl.style.display =\n",
              "        google.colab.kernel.accessAllowed ? 'block' : 'none';\n",
              "\n",
              "      async function convertToInteractive(key) {\n",
              "        const element = document.querySelector('#df-1ac83a48-b0d1-4509-baa7-8dc4205be6aa');\n",
              "        const dataTable =\n",
              "          await google.colab.kernel.invokeFunction('convertToInteractive',\n",
              "                                                    [key], {});\n",
              "        if (!dataTable) return;\n",
              "\n",
              "        const docLinkHtml = 'Like what you see? Visit the ' +\n",
              "          '<a target=\"_blank\" href=https://colab.research.google.com/notebooks/data_table.ipynb>data table notebook</a>'\n",
              "          + ' to learn more about interactive tables.';\n",
              "        element.innerHTML = '';\n",
              "        dataTable['output_type'] = 'display_data';\n",
              "        await google.colab.output.renderOutput(dataTable, element);\n",
              "        const docLink = document.createElement('div');\n",
              "        docLink.innerHTML = docLinkHtml;\n",
              "        element.appendChild(docLink);\n",
              "      }\n",
              "    </script>\n",
              "  </div>\n",
              "\n",
              "\n",
              "<div id=\"df-66bb83d4-551c-45bd-aeee-af41ac26aa8f\">\n",
              "  <button class=\"colab-df-quickchart\" onclick=\"quickchart('df-66bb83d4-551c-45bd-aeee-af41ac26aa8f')\"\n",
              "            title=\"Suggest charts\"\n",
              "            style=\"display:none;\">\n",
              "\n",
              "<svg xmlns=\"http://www.w3.org/2000/svg\" height=\"24px\"viewBox=\"0 0 24 24\"\n",
              "     width=\"24px\">\n",
              "    <g>\n",
              "        <path d=\"M19 3H5c-1.1 0-2 .9-2 2v14c0 1.1.9 2 2 2h14c1.1 0 2-.9 2-2V5c0-1.1-.9-2-2-2zM9 17H7v-7h2v7zm4 0h-2V7h2v10zm4 0h-2v-4h2v4z\"/>\n",
              "    </g>\n",
              "</svg>\n",
              "  </button>\n",
              "\n",
              "<style>\n",
              "  .colab-df-quickchart {\n",
              "      --bg-color: #E8F0FE;\n",
              "      --fill-color: #1967D2;\n",
              "      --hover-bg-color: #E2EBFA;\n",
              "      --hover-fill-color: #174EA6;\n",
              "      --disabled-fill-color: #AAA;\n",
              "      --disabled-bg-color: #DDD;\n",
              "  }\n",
              "\n",
              "  [theme=dark] .colab-df-quickchart {\n",
              "      --bg-color: #3B4455;\n",
              "      --fill-color: #D2E3FC;\n",
              "      --hover-bg-color: #434B5C;\n",
              "      --hover-fill-color: #FFFFFF;\n",
              "      --disabled-bg-color: #3B4455;\n",
              "      --disabled-fill-color: #666;\n",
              "  }\n",
              "\n",
              "  .colab-df-quickchart {\n",
              "    background-color: var(--bg-color);\n",
              "    border: none;\n",
              "    border-radius: 50%;\n",
              "    cursor: pointer;\n",
              "    display: none;\n",
              "    fill: var(--fill-color);\n",
              "    height: 32px;\n",
              "    padding: 0;\n",
              "    width: 32px;\n",
              "  }\n",
              "\n",
              "  .colab-df-quickchart:hover {\n",
              "    background-color: var(--hover-bg-color);\n",
              "    box-shadow: 0 1px 2px rgba(60, 64, 67, 0.3), 0 1px 3px 1px rgba(60, 64, 67, 0.15);\n",
              "    fill: var(--button-hover-fill-color);\n",
              "  }\n",
              "\n",
              "  .colab-df-quickchart-complete:disabled,\n",
              "  .colab-df-quickchart-complete:disabled:hover {\n",
              "    background-color: var(--disabled-bg-color);\n",
              "    fill: var(--disabled-fill-color);\n",
              "    box-shadow: none;\n",
              "  }\n",
              "\n",
              "  .colab-df-spinner {\n",
              "    border: 2px solid var(--fill-color);\n",
              "    border-color: transparent;\n",
              "    border-bottom-color: var(--fill-color);\n",
              "    animation:\n",
              "      spin 1s steps(1) infinite;\n",
              "  }\n",
              "\n",
              "  @keyframes spin {\n",
              "    0% {\n",
              "      border-color: transparent;\n",
              "      border-bottom-color: var(--fill-color);\n",
              "      border-left-color: var(--fill-color);\n",
              "    }\n",
              "    20% {\n",
              "      border-color: transparent;\n",
              "      border-left-color: var(--fill-color);\n",
              "      border-top-color: var(--fill-color);\n",
              "    }\n",
              "    30% {\n",
              "      border-color: transparent;\n",
              "      border-left-color: var(--fill-color);\n",
              "      border-top-color: var(--fill-color);\n",
              "      border-right-color: var(--fill-color);\n",
              "    }\n",
              "    40% {\n",
              "      border-color: transparent;\n",
              "      border-right-color: var(--fill-color);\n",
              "      border-top-color: var(--fill-color);\n",
              "    }\n",
              "    60% {\n",
              "      border-color: transparent;\n",
              "      border-right-color: var(--fill-color);\n",
              "    }\n",
              "    80% {\n",
              "      border-color: transparent;\n",
              "      border-right-color: var(--fill-color);\n",
              "      border-bottom-color: var(--fill-color);\n",
              "    }\n",
              "    90% {\n",
              "      border-color: transparent;\n",
              "      border-bottom-color: var(--fill-color);\n",
              "    }\n",
              "  }\n",
              "</style>\n",
              "\n",
              "  <script>\n",
              "    async function quickchart(key) {\n",
              "      const quickchartButtonEl =\n",
              "        document.querySelector('#' + key + ' button');\n",
              "      quickchartButtonEl.disabled = true;  // To prevent multiple clicks.\n",
              "      quickchartButtonEl.classList.add('colab-df-spinner');\n",
              "      try {\n",
              "        const charts = await google.colab.kernel.invokeFunction(\n",
              "            'suggestCharts', [key], {});\n",
              "      } catch (error) {\n",
              "        console.error('Error during call to suggestCharts:', error);\n",
              "      }\n",
              "      quickchartButtonEl.classList.remove('colab-df-spinner');\n",
              "      quickchartButtonEl.classList.add('colab-df-quickchart-complete');\n",
              "    }\n",
              "    (() => {\n",
              "      let quickchartButtonEl =\n",
              "        document.querySelector('#df-66bb83d4-551c-45bd-aeee-af41ac26aa8f button');\n",
              "      quickchartButtonEl.style.display =\n",
              "        google.colab.kernel.accessAllowed ? 'block' : 'none';\n",
              "    })();\n",
              "  </script>\n",
              "</div>\n",
              "\n",
              "    </div>\n",
              "  </div>\n"
            ],
            "application/vnd.google.colaboratory.intrinsic+json": {
              "type": "dataframe",
              "variable_name": "spotify"
            }
          },
          "metadata": {},
          "execution_count": 39
        }
      ]
    },
    {
      "cell_type": "markdown",
      "source": [
        "# Cleaning Data"
      ],
      "metadata": {
        "id": "f2uk-Ysr1goa"
      }
    },
    {
      "cell_type": "code",
      "source": [
        "spotify.info()"
      ],
      "metadata": {
        "colab": {
          "base_uri": "https://localhost:8080/"
        },
        "id": "-YspAN5N4Akr",
        "outputId": "086ab57c-0db2-44ca-bf84-8ac938b57297"
      },
      "execution_count": 40,
      "outputs": [
        {
          "output_type": "stream",
          "name": "stdout",
          "text": [
            "<class 'pandas.core.frame.DataFrame'>\n",
            "RangeIndex: 4600 entries, 0 to 4599\n",
            "Data columns (total 29 columns):\n",
            " #   Column                      Non-Null Count  Dtype  \n",
            "---  ------                      --------------  -----  \n",
            " 0   Track                       4600 non-null   object \n",
            " 1   Album Name                  4600 non-null   object \n",
            " 2   Artist                      4595 non-null   object \n",
            " 3   Release Date                4600 non-null   object \n",
            " 4   ISRC                        4600 non-null   object \n",
            " 5   All Time Rank               4600 non-null   object \n",
            " 6   Track Score                 4600 non-null   float64\n",
            " 7   Spotify Streams             4487 non-null   object \n",
            " 8   Spotify Playlist Count      4530 non-null   object \n",
            " 9   Spotify Playlist Reach      4528 non-null   object \n",
            " 10  Spotify Popularity          3796 non-null   float64\n",
            " 11  YouTube Views               4292 non-null   object \n",
            " 12  YouTube Likes               4285 non-null   object \n",
            " 13  TikTok Posts                3427 non-null   object \n",
            " 14  TikTok Likes                3620 non-null   object \n",
            " 15  TikTok Views                3619 non-null   object \n",
            " 16  YouTube Playlist Reach      3591 non-null   object \n",
            " 17  Apple Music Playlist Count  4039 non-null   float64\n",
            " 18  AirPlay Spins               4102 non-null   object \n",
            " 19  SiriusXM Spins              2477 non-null   object \n",
            " 20  Deezer Playlist Count       3679 non-null   float64\n",
            " 21  Deezer Playlist Reach       3672 non-null   object \n",
            " 22  Amazon Playlist Count       3545 non-null   float64\n",
            " 23  Pandora Streams             3494 non-null   object \n",
            " 24  Pandora Track Stations      3332 non-null   object \n",
            " 25  Soundcloud Streams          1267 non-null   object \n",
            " 26  Shazam Counts               4023 non-null   object \n",
            " 27  TIDAL Popularity            0 non-null      float64\n",
            " 28  Explicit Track              4600 non-null   int64  \n",
            "dtypes: float64(6), int64(1), object(22)\n",
            "memory usage: 1.0+ MB\n"
          ]
        }
      ]
    },
    {
      "cell_type": "code",
      "source": [
        "spotify.drop(columns = ['TIDAL Popularity','Soundcloud Streams','SiriusXM Spins','ISRC', 'AirPlay Spins', 'SiriusXM Spins',\n",
        "                        'Deezer Playlist Count', 'Deezer Playlist Reach', 'Pandora Streams', 'Pandora Track Stations',\n",
        "                        'Amazon Playlist Count', 'YouTube Playlist Reach', 'Apple Music Playlist Count', 'Shazam Counts', 'Explicit Track'], axis = 1, inplace = True)"
      ],
      "metadata": {
        "id": "_mF5Mngy9mA9"
      },
      "execution_count": 41,
      "outputs": []
    },
    {
      "cell_type": "code",
      "source": [
        "spotify.shape"
      ],
      "metadata": {
        "colab": {
          "base_uri": "https://localhost:8080/"
        },
        "id": "v2QagHgg1GzW",
        "outputId": "c2af49e8-fc43-4b83-b251-40ca6254cb2d"
      },
      "execution_count": 42,
      "outputs": [
        {
          "output_type": "execute_result",
          "data": {
            "text/plain": [
              "(4600, 15)"
            ]
          },
          "metadata": {},
          "execution_count": 42
        }
      ]
    },
    {
      "cell_type": "code",
      "source": [
        "spotify.isnull().sum()"
      ],
      "metadata": {
        "colab": {
          "base_uri": "https://localhost:8080/"
        },
        "id": "xp9gk72Z1l5T",
        "outputId": "32053d59-631f-4de6-f071-c9a5ab2a5d16"
      },
      "execution_count": 43,
      "outputs": [
        {
          "output_type": "execute_result",
          "data": {
            "text/plain": [
              "Track                        0\n",
              "Album Name                   0\n",
              "Artist                       5\n",
              "Release Date                 0\n",
              "All Time Rank                0\n",
              "Track Score                  0\n",
              "Spotify Streams            113\n",
              "Spotify Playlist Count      70\n",
              "Spotify Playlist Reach      72\n",
              "Spotify Popularity         804\n",
              "YouTube Views              308\n",
              "YouTube Likes              315\n",
              "TikTok Posts              1173\n",
              "TikTok Likes               980\n",
              "TikTok Views               981\n",
              "dtype: int64"
            ]
          },
          "metadata": {},
          "execution_count": 43
        }
      ]
    },
    {
      "cell_type": "code",
      "source": [
        "spotify.info()"
      ],
      "metadata": {
        "colab": {
          "base_uri": "https://localhost:8080/"
        },
        "id": "5ToAfwJKS7Wt",
        "outputId": "42343097-182e-45fa-9604-a1338645580d"
      },
      "execution_count": 44,
      "outputs": [
        {
          "output_type": "stream",
          "name": "stdout",
          "text": [
            "<class 'pandas.core.frame.DataFrame'>\n",
            "RangeIndex: 4600 entries, 0 to 4599\n",
            "Data columns (total 15 columns):\n",
            " #   Column                  Non-Null Count  Dtype  \n",
            "---  ------                  --------------  -----  \n",
            " 0   Track                   4600 non-null   object \n",
            " 1   Album Name              4600 non-null   object \n",
            " 2   Artist                  4595 non-null   object \n",
            " 3   Release Date            4600 non-null   object \n",
            " 4   All Time Rank           4600 non-null   object \n",
            " 5   Track Score             4600 non-null   float64\n",
            " 6   Spotify Streams         4487 non-null   object \n",
            " 7   Spotify Playlist Count  4530 non-null   object \n",
            " 8   Spotify Playlist Reach  4528 non-null   object \n",
            " 9   Spotify Popularity      3796 non-null   float64\n",
            " 10  YouTube Views           4292 non-null   object \n",
            " 11  YouTube Likes           4285 non-null   object \n",
            " 12  TikTok Posts            3427 non-null   object \n",
            " 13  TikTok Likes            3620 non-null   object \n",
            " 14  TikTok Views            3619 non-null   object \n",
            "dtypes: float64(2), object(13)\n",
            "memory usage: 539.2+ KB\n"
          ]
        }
      ]
    },
    {
      "cell_type": "code",
      "source": [
        "# Replace commas and handle missing values before converting to integers\n",
        "spotify['YouTube Views'] = spotify['YouTube Views'].str.replace(',', '').fillna(0).astype(int)\n",
        "spotify['YouTube Likes'] = spotify['YouTube Likes'].str.replace(',', '').fillna(0).astype(int)\n",
        "spotify['TikTok Posts'] = spotify['TikTok Posts'].str.replace(',', '').fillna(0).astype(int)\n",
        "spotify['Spotify Playlist Count'] = spotify['Spotify Playlist Count'].str.replace(',', '').fillna(0).astype(int)\n",
        "spotify['TikTok Likes'] = spotify['TikTok Likes'].str.replace(',', '').fillna(0).astype(int)\n",
        "spotify['TikTok Views'] = spotify['TikTok Views'].str.replace(',', '').fillna(0).astype(int)\n",
        "spotify['Spotify Streams'] = spotify['Spotify Streams'].str.replace(',', '').fillna(0).astype(int)\n",
        "spotify['Spotify Playlist Reach'] = spotify['Spotify Playlist Reach'].str.replace(',', '').fillna(0).astype(int)\n",
        "spotify['All Time Rank'] = spotify['All Time Rank'].str.replace(',', '').fillna(0).astype(int)\n",
        "spotify['Release Date'] = pd.to_datetime(spotify['Release Date'])"
      ],
      "metadata": {
        "id": "7IYTVxNtW2zi"
      },
      "execution_count": 45,
      "outputs": []
    },
    {
      "cell_type": "code",
      "source": [
        "spotify['Artist'] = spotify['Artist'].fillna('Unknown')\n",
        "spotify['Track'] = spotify['Track'].fillna('Unknown')\n",
        "spotify['Spotify Playlist Count'] = spotify['Spotify Playlist Count'].fillna('Unknown')\n",
        "spotify['Spotify Streams'] = spotify['Spotify Streams'].fillna('Unknown')\n",
        "spotify['Spotify Playlist Reach'] = spotify['Spotify Playlist Reach'].fillna('Unknown')\n",
        "spotify['Spotify Popularity'] = spotify['Spotify Popularity'].fillna(spotify['Spotify Popularity'].mean())\n",
        "spotify['YouTube Views'] = spotify['YouTube Views'].fillna(spotify['YouTube Views'].mean())\n",
        "spotify['YouTube Likes'] = spotify['YouTube Likes'].fillna(spotify['YouTube Likes'].mean())\n",
        "spotify['TikTok Posts'] = spotify['TikTok Posts'].fillna(spotify['TikTok Posts'].mean())\n",
        "spotify['TikTok Likes'] = spotify['TikTok Likes'].fillna(spotify['TikTok Likes'].mean())\n",
        "spotify['TikTok Views'] = spotify['TikTok Views'].fillna(spotify['TikTok Views'].mean())"
      ],
      "metadata": {
        "id": "AdfOPR2y_E6H"
      },
      "execution_count": 46,
      "outputs": []
    },
    {
      "cell_type": "code",
      "source": [
        "spotify.isnull().sum()"
      ],
      "metadata": {
        "colab": {
          "base_uri": "https://localhost:8080/"
        },
        "id": "u4Uy8u-G_v3A",
        "outputId": "e1f40b24-3e6f-4c69-f57d-51f55978c754"
      },
      "execution_count": 47,
      "outputs": [
        {
          "output_type": "execute_result",
          "data": {
            "text/plain": [
              "Track                     0\n",
              "Album Name                0\n",
              "Artist                    0\n",
              "Release Date              0\n",
              "All Time Rank             0\n",
              "Track Score               0\n",
              "Spotify Streams           0\n",
              "Spotify Playlist Count    0\n",
              "Spotify Playlist Reach    0\n",
              "Spotify Popularity        0\n",
              "YouTube Views             0\n",
              "YouTube Likes             0\n",
              "TikTok Posts              0\n",
              "TikTok Likes              0\n",
              "TikTok Views              0\n",
              "dtype: int64"
            ]
          },
          "metadata": {},
          "execution_count": 47
        }
      ]
    },
    {
      "source": [
        "missing_percentaged = {}\n",
        "for i in spotify.columns:\n",
        "  total_per = (spotify[i].isnull().sum() / spotify.shape[0]) * 100\n",
        "  missing_percentaged[i] = total_per\n",
        "sorted_missing_percentaged = dict(sorted(missing_percentaged.items(), key=lambda item: item[1], reverse=True))\n",
        "\n",
        "# Create a pandas Series from the dictionary\n",
        "sorted_missing_percentaged_series = pd.Series(sorted_missing_percentaged)\n",
        "\n",
        "# Plot the series\n",
        "sorted_missing_percentaged_series.plot(kind='bar') # You might want to specify the kind of plot, like 'bar'\n",
        "missing_percentaged\n",
        "plt.title('Percentage of Missing Values')\n",
        "plt.xlabel('Feature')\n",
        "plt.ylabel('Percentage of Missing Values')"
      ],
      "cell_type": "code",
      "metadata": {
        "colab": {
          "base_uri": "https://localhost:8080/",
          "height": 624
        },
        "id": "HFzTC2I73hoQ",
        "outputId": "ad88cd41-e8ed-4c7b-e567-642e58e92cf3"
      },
      "execution_count": 48,
      "outputs": [
        {
          "output_type": "execute_result",
          "data": {
            "text/plain": [
              "Text(0, 0.5, 'Percentage of Missing Values')"
            ]
          },
          "metadata": {},
          "execution_count": 48
        },
        {
          "output_type": "display_data",
          "data": {
            "text/plain": [
              "<Figure size 640x480 with 1 Axes>"
            ],
            "image/png": "[encoded data removed]"
          },
          "metadata": {}
        }
      ]
    },
    {
      "cell_type": "code",
      "source": [
        "spotify"
      ],
      "metadata": {
        "id": "5WM0DnG59tCV",
        "colab": {
          "base_uri": "https://localhost:8080/",
          "height": 756
        },
        "outputId": "8cc07375-8acc-4ba8-a8fa-e412d091ae6b"
      },
      "execution_count": 49,
      "outputs": [
        {
          "output_type": "execute_result",
          "data": {
            "text/plain": [
              "                                Track                        Album Name  \\\n",
              "0                 MILLION DOLLAR BABY      Million Dollar Baby - Single   \n",
              "1                         Not Like Us                       Not Like Us   \n",
              "2          i like the way you kiss me        I like the way you kiss me   \n",
              "3                             Flowers                  Flowers - Single   \n",
              "4                             Houdini                           Houdini   \n",
              "...                               ...                               ...   \n",
              "4595                For the Last Time                 For the Last Time   \n",
              "4596                 Dil Meri Na Sune  Dil Meri Na Sune (From \"Genius\")   \n",
              "4597            Grace (feat. 42 Dugg)                           My Turn   \n",
              "4598              Nashe Si Chadh Gayi             November Top 10 Songs   \n",
              "4599  Me Acostumbre (feat. Bad Bunny)   Me Acostumbre (feat. Bad Bunny)   \n",
              "\n",
              "              Artist Release Date  All Time Rank  Track Score  \\\n",
              "0      Tommy Richman   2024-04-26              1        725.4   \n",
              "1     Kendrick Lamar   2024-05-04              2        545.9   \n",
              "2            Artemas   2024-03-19              3        538.4   \n",
              "3        Miley Cyrus   2023-01-12              4        444.9   \n",
              "4             Eminem   2024-05-31              5        423.3   \n",
              "...              ...          ...            ...          ...   \n",
              "4595     $uicideboy$   2017-09-05           4585         19.4   \n",
              "4596      Atif Aslam   2018-07-27           4575         19.4   \n",
              "4597        Lil Baby   2020-02-28           4571         19.4   \n",
              "4598    Arijit Singh   2016-11-08           4591         19.4   \n",
              "4599       Arcï¿½ï¿½   2017-04-11           4593         19.4   \n",
              "\n",
              "      Spotify Streams  Spotify Playlist Count  Spotify Playlist Reach  \\\n",
              "0           390470936                   30716               196631588   \n",
              "1           323703884                   28113               174597137   \n",
              "2           601309283                   54331               211607669   \n",
              "3          2031280633                  269802               136569078   \n",
              "4           107034922                    7223               151469874   \n",
              "...               ...                     ...                     ...   \n",
              "4595        305049963                   65770                 5103054   \n",
              "4596         52282360                    4602                 1449767   \n",
              "4597        189972685                   72066                 6704802   \n",
              "4598        145467020                   14037                 7387064   \n",
              "4599        255740653                   32138                14066526   \n",
              "\n",
              "      Spotify Popularity  YouTube Views  YouTube Likes  TikTok Posts  \\\n",
              "0                   92.0       84274754        1713126       5767700   \n",
              "1                   92.0      116347040        3486739        674700   \n",
              "2                   92.0      122599116        2228730       3025400   \n",
              "3                   85.0     1096100899       10629796       7189811   \n",
              "4                   88.0       77373957        3670188         16400   \n",
              "...                  ...            ...            ...           ...   \n",
              "4595                71.0      149247747        1397590         48370   \n",
              "4596                56.0      943920245        5347766             0   \n",
              "4597                65.0      201027333        1081402          7596   \n",
              "4598                66.0     1118595159        3868828         11433   \n",
              "4599                64.0      866300755        3826829         78000   \n",
              "\n",
              "      TikTok Likes  TikTok Views  \n",
              "0        651565900    5332281936  \n",
              "1         35223547     208339025  \n",
              "2        275154237    3369120610  \n",
              "3       1078757968   14603725994  \n",
              "4                0             0  \n",
              "...            ...           ...  \n",
              "4595      20202000     143934379  \n",
              "4596          1721         19935  \n",
              "4597       5288677      36849005  \n",
              "4598       2534831      37757301  \n",
              "4599      10055461      70196388  \n",
              "\n",
              "[4600 rows x 15 columns]"
            ],
            "text/html": [
              "\n",
              "  <div id=\"df-67a1695f-9f42-4cf5-a7c3-f4884f0ea20f\" class=\"colab-df-container\">\n",
              "    <div>\n",
              "<style scoped>\n",
              "    .dataframe tbody tr th:only-of-type {\n",
              "        vertical-align: middle;\n",
              "    }\n",
              "\n",
              "    .dataframe tbody tr th {\n",
              "        vertical-align: top;\n",
              "    }\n",
              "\n",
              "    .dataframe thead th {\n",
              "        text-align: right;\n",
              "    }\n",
              "</style>\n",
              "<table border=\"1\" class=\"dataframe\">\n",
              "  <thead>\n",
              "    <tr style=\"text-align: right;\">\n",
              "      <th></th>\n",
              "      <th>Track</th>\n",
              "      <th>Album Name</th>\n",
              "      <th>Artist</th>\n",
              "      <th>Release Date</th>\n",
              "      <th>All Time Rank</th>\n",
              "      <th>Track Score</th>\n",
              "      <th>Spotify Streams</th>\n",
              "      <th>Spotify Playlist Count</th>\n",
              "      <th>Spotify Playlist Reach</th>\n",
              "      <th>Spotify Popularity</th>\n",
              "      <th>YouTube Views</th>\n",
              "      <th>YouTube Likes</th>\n",
              "      <th>TikTok Posts</th>\n",
              "      <th>TikTok Likes</th>\n",
              "      <th>TikTok Views</th>\n",
              "    </tr>\n",
              "  </thead>\n",
              "  <tbody>\n",
              "    <tr>\n",
              "      <th>0</th>\n",
              "      <td>MILLION DOLLAR BABY</td>\n",
              "      <td>Million Dollar Baby - Single</td>\n",
              "      <td>Tommy Richman</td>\n",
              "      <td>2024-04-26</td>\n",
              "      <td>1</td>\n",
              "      <td>725.4</td>\n",
              "      <td>390470936</td>\n",
              "      <td>30716</td>\n",
              "      <td>196631588</td>\n",
              "      <td>92.0</td>\n",
              "      <td>84274754</td>\n",
              "      <td>1713126</td>\n",
              "      <td>5767700</td>\n",
              "      <td>651565900</td>\n",
              "      <td>5332281936</td>\n",
              "    </tr>\n",
              "    <tr>\n",
              "      <th>1</th>\n",
              "      <td>Not Like Us</td>\n",
              "      <td>Not Like Us</td>\n",
              "      <td>Kendrick Lamar</td>\n",
              "      <td>2024-05-04</td>\n",
              "      <td>2</td>\n",
              "      <td>545.9</td>\n",
              "      <td>323703884</td>\n",
              "      <td>28113</td>\n",
              "      <td>174597137</td>\n",
              "      <td>92.0</td>\n",
              "      <td>116347040</td>\n",
              "      <td>3486739</td>\n",
              "      <td>674700</td>\n",
              "      <td>35223547</td>\n",
              "      <td>208339025</td>\n",
              "    </tr>\n",
              "    <tr>\n",
              "      <th>2</th>\n",
              "      <td>i like the way you kiss me</td>\n",
              "      <td>I like the way you kiss me</td>\n",
              "      <td>Artemas</td>\n",
              "      <td>2024-03-19</td>\n",
              "      <td>3</td>\n",
              "      <td>538.4</td>\n",
              "      <td>601309283</td>\n",
              "      <td>54331</td>\n",
              "      <td>211607669</td>\n",
              "      <td>92.0</td>\n",
              "      <td>122599116</td>\n",
              "      <td>2228730</td>\n",
              "      <td>3025400</td>\n",
              "      <td>275154237</td>\n",
              "      <td>3369120610</td>\n",
              "    </tr>\n",
              "    <tr>\n",
              "      <th>3</th>\n",
              "      <td>Flowers</td>\n",
              "      <td>Flowers - Single</td>\n",
              "      <td>Miley Cyrus</td>\n",
              "      <td>2023-01-12</td>\n",
              "      <td>4</td>\n",
              "      <td>444.9</td>\n",
              "      <td>2031280633</td>\n",
              "      <td>269802</td>\n",
              "      <td>136569078</td>\n",
              "      <td>85.0</td>\n",
              "      <td>1096100899</td>\n",
              "      <td>10629796</td>\n",
              "      <td>7189811</td>\n",
              "      <td>1078757968</td>\n",
              "      <td>14603725994</td>\n",
              "    </tr>\n",
              "    <tr>\n",
              "      <th>4</th>\n",
              "      <td>Houdini</td>\n",
              "      <td>Houdini</td>\n",
              "      <td>Eminem</td>\n",
              "      <td>2024-05-31</td>\n",
              "      <td>5</td>\n",
              "      <td>423.3</td>\n",
              "      <td>107034922</td>\n",
              "      <td>7223</td>\n",
              "      <td>151469874</td>\n",
              "      <td>88.0</td>\n",
              "      <td>77373957</td>\n",
              "      <td>3670188</td>\n",
              "      <td>16400</td>\n",
              "      <td>0</td>\n",
              "      <td>0</td>\n",
              "    </tr>\n",
              "    <tr>\n",
              "      <th>...</th>\n",
              "      <td>...</td>\n",
              "      <td>...</td>\n",
              "      <td>...</td>\n",
              "      <td>...</td>\n",
              "      <td>...</td>\n",
              "      <td>...</td>\n",
              "      <td>...</td>\n",
              "      <td>...</td>\n",
              "      <td>...</td>\n",
              "      <td>...</td>\n",
              "      <td>...</td>\n",
              "      <td>...</td>\n",
              "      <td>...</td>\n",
              "      <td>...</td>\n",
              "      <td>...</td>\n",
              "    </tr>\n",
              "    <tr>\n",
              "      <th>4595</th>\n",
              "      <td>For the Last Time</td>\n",
              "      <td>For the Last Time</td>\n",
              "      <td>$uicideboy$</td>\n",
              "      <td>2017-09-05</td>\n",
              "      <td>4585</td>\n",
              "      <td>19.4</td>\n",
              "      <td>305049963</td>\n",
              "      <td>65770</td>\n",
              "      <td>5103054</td>\n",
              "      <td>71.0</td>\n",
              "      <td>149247747</td>\n",
              "      <td>1397590</td>\n",
              "      <td>48370</td>\n",
              "      <td>20202000</td>\n",
              "      <td>143934379</td>\n",
              "    </tr>\n",
              "    <tr>\n",
              "      <th>4596</th>\n",
              "      <td>Dil Meri Na Sune</td>\n",
              "      <td>Dil Meri Na Sune (From \"Genius\")</td>\n",
              "      <td>Atif Aslam</td>\n",
              "      <td>2018-07-27</td>\n",
              "      <td>4575</td>\n",
              "      <td>19.4</td>\n",
              "      <td>52282360</td>\n",
              "      <td>4602</td>\n",
              "      <td>1449767</td>\n",
              "      <td>56.0</td>\n",
              "      <td>943920245</td>\n",
              "      <td>5347766</td>\n",
              "      <td>0</td>\n",
              "      <td>1721</td>\n",
              "      <td>19935</td>\n",
              "    </tr>\n",
              "    <tr>\n",
              "      <th>4597</th>\n",
              "      <td>Grace (feat. 42 Dugg)</td>\n",
              "      <td>My Turn</td>\n",
              "      <td>Lil Baby</td>\n",
              "      <td>2020-02-28</td>\n",
              "      <td>4571</td>\n",
              "      <td>19.4</td>\n",
              "      <td>189972685</td>\n",
              "      <td>72066</td>\n",
              "      <td>6704802</td>\n",
              "      <td>65.0</td>\n",
              "      <td>201027333</td>\n",
              "      <td>1081402</td>\n",
              "      <td>7596</td>\n",
              "      <td>5288677</td>\n",
              "      <td>36849005</td>\n",
              "    </tr>\n",
              "    <tr>\n",
              "      <th>4598</th>\n",
              "      <td>Nashe Si Chadh Gayi</td>\n",
              "      <td>November Top 10 Songs</td>\n",
              "      <td>Arijit Singh</td>\n",
              "      <td>2016-11-08</td>\n",
              "      <td>4591</td>\n",
              "      <td>19.4</td>\n",
              "      <td>145467020</td>\n",
              "      <td>14037</td>\n",
              "      <td>7387064</td>\n",
              "      <td>66.0</td>\n",
              "      <td>1118595159</td>\n",
              "      <td>3868828</td>\n",
              "      <td>11433</td>\n",
              "      <td>2534831</td>\n",
              "      <td>37757301</td>\n",
              "    </tr>\n",
              "    <tr>\n",
              "      <th>4599</th>\n",
              "      <td>Me Acostumbre (feat. Bad Bunny)</td>\n",
              "      <td>Me Acostumbre (feat. Bad Bunny)</td>\n",
              "      <td>Arcï¿½ï¿½</td>\n",
              "      <td>2017-04-11</td>\n",
              "      <td>4593</td>\n",
              "      <td>19.4</td>\n",
              "      <td>255740653</td>\n",
              "      <td>32138</td>\n",
              "      <td>14066526</td>\n",
              "      <td>64.0</td>\n",
              "      <td>866300755</td>\n",
              "      <td>3826829</td>\n",
              "      <td>78000</td>\n",
              "      <td>10055461</td>\n",
              "      <td>70196388</td>\n",
              "    </tr>\n",
              "  </tbody>\n",
              "</table>\n",
              "<p>4600 rows × 15 columns</p>\n",
              "</div>\n",
              "    <div class=\"colab-df-buttons\">\n",
              "\n",
              "  <div class=\"colab-df-container\">\n",
              "    <button class=\"colab-df-convert\" onclick=\"convertToInteractive('df-67a1695f-9f42-4cf5-a7c3-f4884f0ea20f')\"\n",
              "            title=\"Convert this dataframe to an interactive table.\"\n",
              "            style=\"display:none;\">\n",
              "\n",
              "  <svg xmlns=\"http://www.w3.org/2000/svg\" height=\"24px\" viewBox=\"0 -960 960 960\">\n",
              "    <path d=\"M120-120v-720h720v720H120Zm60-500h600v-160H180v160Zm220 220h160v-160H400v160Zm0 220h160v-160H400v160ZM180-400h160v-160H180v160Zm440 0h160v-160H620v160ZM180-180h160v-160H180v160Zm440 0h160v-160H620v160Z\"/>\n",
              "  </svg>\n",
              "    </button>\n",
              "\n",
              "  <style>\n",
              "    .colab-df-container {\n",
              "      display:flex;\n",
              "      gap: 12px;\n",
              "    }\n",
              "\n",
              "    .colab-df-convert {\n",
              "      background-color: #E8F0FE;\n",
              "      border: none;\n",
              "      border-radius: 50%;\n",
              "      cursor: pointer;\n",
              "      display: none;\n",
              "      fill: #1967D2;\n",
              "      height: 32px;\n",
              "      padding: 0 0 0 0;\n",
              "      width: 32px;\n",
              "    }\n",
              "\n",
              "    .colab-df-convert:hover {\n",
              "      background-color: #E2EBFA;\n",
              "      box-shadow: 0px 1px 2px rgba(60, 64, 67, 0.3), 0px 1px 3px 1px rgba(60, 64, 67, 0.15);\n",
              "      fill: #174EA6;\n",
              "    }\n",
              "\n",
              "    .colab-df-buttons div {\n",
              "      margin-bottom: 4px;\n",
              "    }\n",
              "\n",
              "    [theme=dark] .colab-df-convert {\n",
              "      background-color: #3B4455;\n",
              "      fill: #D2E3FC;\n",
              "    }\n",
              "\n",
              "    [theme=dark] .colab-df-convert:hover {\n",
              "      background-color: #434B5C;\n",
              "      box-shadow: 0px 1px 3px 1px rgba(0, 0, 0, 0.15);\n",
              "      filter: drop-shadow(0px 1px 2px rgba(0, 0, 0, 0.3));\n",
              "      fill: #FFFFFF;\n",
              "    }\n",
              "  </style>\n",
              "\n",
              "    <script>\n",
              "      const buttonEl =\n",
              "        document.querySelector('#df-67a1695f-9f42-4cf5-a7c3-f4884f0ea20f button.colab-df-convert');\n",
              "      buttonEl.style.display =\n",
              "        google.colab.kernel.accessAllowed ? 'block' : 'none';\n",
              "\n",
              "      async function convertToInteractive(key) {\n",
              "        const element = document.querySelector('#df-67a1695f-9f42-4cf5-a7c3-f4884f0ea20f');\n",
              "        const dataTable =\n",
              "          await google.colab.kernel.invokeFunction('convertToInteractive',\n",
              "                                                    [key], {});\n",
              "        if (!dataTable) return;\n",
              "\n",
              "        const docLinkHtml = 'Like what you see? Visit the ' +\n",
              "          '<a target=\"_blank\" href=https://colab.research.google.com/notebooks/data_table.ipynb>data table notebook</a>'\n",
              "          + ' to learn more about interactive tables.';\n",
              "        element.innerHTML = '';\n",
              "        dataTable['output_type'] = 'display_data';\n",
              "        await google.colab.output.renderOutput(dataTable, element);\n",
              "        const docLink = document.createElement('div');\n",
              "        docLink.innerHTML = docLinkHtml;\n",
              "        element.appendChild(docLink);\n",
              "      }\n",
              "    </script>\n",
              "  </div>\n",
              "\n",
              "\n",
              "<div id=\"df-f1f76ca3-90e4-4892-8f27-b9268cbcf2b6\">\n",
              "  <button class=\"colab-df-quickchart\" onclick=\"quickchart('df-f1f76ca3-90e4-4892-8f27-b9268cbcf2b6')\"\n",
              "            title=\"Suggest charts\"\n",
              "            style=\"display:none;\">\n",
              "\n",
              "<svg xmlns=\"http://www.w3.org/2000/svg\" height=\"24px\"viewBox=\"0 0 24 24\"\n",
              "     width=\"24px\">\n",
              "    <g>\n",
              "        <path d=\"M19 3H5c-1.1 0-2 .9-2 2v14c0 1.1.9 2 2 2h14c1.1 0 2-.9 2-2V5c0-1.1-.9-2-2-2zM9 17H7v-7h2v7zm4 0h-2V7h2v10zm4 0h-2v-4h2v4z\"/>\n",
              "    </g>\n",
              "</svg>\n",
              "  </button>\n",
              "\n",
              "<style>\n",
              "  .colab-df-quickchart {\n",
              "      --bg-color: #E8F0FE;\n",
              "      --fill-color: #1967D2;\n",
              "      --hover-bg-color: #E2EBFA;\n",
              "      --hover-fill-color: #174EA6;\n",
              "      --disabled-fill-color: #AAA;\n",
              "      --disabled-bg-color: #DDD;\n",
              "  }\n",
              "\n",
              "  [theme=dark] .colab-df-quickchart {\n",
              "      --bg-color: #3B4455;\n",
              "      --fill-color: #D2E3FC;\n",
              "      --hover-bg-color: #434B5C;\n",
              "      --hover-fill-color: #FFFFFF;\n",
              "      --disabled-bg-color: #3B4455;\n",
              "      --disabled-fill-color: #666;\n",
              "  }\n",
              "\n",
              "  .colab-df-quickchart {\n",
              "    background-color: var(--bg-color);\n",
              "    border: none;\n",
              "    border-radius: 50%;\n",
              "    cursor: pointer;\n",
              "    display: none;\n",
              "    fill: var(--fill-color);\n",
              "    height: 32px;\n",
              "    padding: 0;\n",
              "    width: 32px;\n",
              "  }\n",
              "\n",
              "  .colab-df-quickchart:hover {\n",
              "    background-color: var(--hover-bg-color);\n",
              "    box-shadow: 0 1px 2px rgba(60, 64, 67, 0.3), 0 1px 3px 1px rgba(60, 64, 67, 0.15);\n",
              "    fill: var(--button-hover-fill-color);\n",
              "  }\n",
              "\n",
              "  .colab-df-quickchart-complete:disabled,\n",
              "  .colab-df-quickchart-complete:disabled:hover {\n",
              "    background-color: var(--disabled-bg-color);\n",
              "    fill: var(--disabled-fill-color);\n",
              "    box-shadow: none;\n",
              "  }\n",
              "\n",
              "  .colab-df-spinner {\n",
              "    border: 2px solid var(--fill-color);\n",
              "    border-color: transparent;\n",
              "    border-bottom-color: var(--fill-color);\n",
              "    animation:\n",
              "      spin 1s steps(1) infinite;\n",
              "  }\n",
              "\n",
              "  @keyframes spin {\n",
              "    0% {\n",
              "      border-color: transparent;\n",
              "      border-bottom-color: var(--fill-color);\n",
              "      border-left-color: var(--fill-color);\n",
              "    }\n",
              "    20% {\n",
              "      border-color: transparent;\n",
              "      border-left-color: var(--fill-color);\n",
              "      border-top-color: var(--fill-color);\n",
              "    }\n",
              "    30% {\n",
              "      border-color: transparent;\n",
              "      border-left-color: var(--fill-color);\n",
              "      border-top-color: var(--fill-color);\n",
              "      border-right-color: var(--fill-color);\n",
              "    }\n",
              "    40% {\n",
              "      border-color: transparent;\n",
              "      border-right-color: var(--fill-color);\n",
              "      border-top-color: var(--fill-color);\n",
              "    }\n",
              "    60% {\n",
              "      border-color: transparent;\n",
              "      border-right-color: var(--fill-color);\n",
              "    }\n",
              "    80% {\n",
              "      border-color: transparent;\n",
              "      border-right-color: var(--fill-color);\n",
              "      border-bottom-color: var(--fill-color);\n",
              "    }\n",
              "    90% {\n",
              "      border-color: transparent;\n",
              "      border-bottom-color: var(--fill-color);\n",
              "    }\n",
              "  }\n",
              "</style>\n",
              "\n",
              "  <script>\n",
              "    async function quickchart(key) {\n",
              "      const quickchartButtonEl =\n",
              "        document.querySelector('#' + key + ' button');\n",
              "      quickchartButtonEl.disabled = true;  // To prevent multiple clicks.\n",
              "      quickchartButtonEl.classList.add('colab-df-spinner');\n",
              "      try {\n",
              "        const charts = await google.colab.kernel.invokeFunction(\n",
              "            'suggestCharts', [key], {});\n",
              "      } catch (error) {\n",
              "        console.error('Error during call to suggestCharts:', error);\n",
              "      }\n",
              "      quickchartButtonEl.classList.remove('colab-df-spinner');\n",
              "      quickchartButtonEl.classList.add('colab-df-quickchart-complete');\n",
              "    }\n",
              "    (() => {\n",
              "      let quickchartButtonEl =\n",
              "        document.querySelector('#df-f1f76ca3-90e4-4892-8f27-b9268cbcf2b6 button');\n",
              "      quickchartButtonEl.style.display =\n",
              "        google.colab.kernel.accessAllowed ? 'block' : 'none';\n",
              "    })();\n",
              "  </script>\n",
              "</div>\n",
              "\n",
              "  <div id=\"id_80e59173-c1f3-4f3e-a9cd-4ee1d6fb2468\">\n",
              "    <style>\n",
              "      .colab-df-generate {\n",
              "        background-color: #E8F0FE;\n",
              "        border: none;\n",
              "        border-radius: 50%;\n",
              "        cursor: pointer;\n",
              "        display: none;\n",
              "        fill: #1967D2;\n",
              "        height: 32px;\n",
              "        padding: 0 0 0 0;\n",
              "        width: 32px;\n",
              "      }\n",
              "\n",
              "      .colab-df-generate:hover {\n",
              "        background-color: #E2EBFA;\n",
              "        box-shadow: 0px 1px 2px rgba(60, 64, 67, 0.3), 0px 1px 3px 1px rgba(60, 64, 67, 0.15);\n",
              "        fill: #174EA6;\n",
              "      }\n",
              "\n",
              "      [theme=dark] .colab-df-generate {\n",
              "        background-color: #3B4455;\n",
              "        fill: #D2E3FC;\n",
              "      }\n",
              "\n",
              "      [theme=dark] .colab-df-generate:hover {\n",
              "        background-color: #434B5C;\n",
              "        box-shadow: 0px 1px 3px 1px rgba(0, 0, 0, 0.15);\n",
              "        filter: drop-shadow(0px 1px 2px rgba(0, 0, 0, 0.3));\n",
              "        fill: #FFFFFF;\n",
              "      }\n",
              "    </style>\n",
              "    <button class=\"colab-df-generate\" onclick=\"generateWithVariable('spotify')\"\n",
              "            title=\"Generate code using this dataframe.\"\n",
              "            style=\"display:none;\">\n",
              "\n",
              "  <svg xmlns=\"http://www.w3.org/2000/svg\" height=\"24px\"viewBox=\"0 0 24 24\"\n",
              "       width=\"24px\">\n",
              "    <path d=\"M7,19H8.4L18.45,9,17,7.55,7,17.6ZM5,21V16.75L18.45,3.32a2,2,0,0,1,2.83,0l1.4,1.43a1.91,1.91,0,0,1,.58,1.4,1.91,1.91,0,0,1-.58,1.4L9.25,21ZM18.45,9,17,7.55Zm-12,3A5.31,5.31,0,0,0,4.9,8.1,5.31,5.31,0,0,0,1,6.5,5.31,5.31,0,0,0,4.9,4.9,5.31,5.31,0,0,0,6.5,1,5.31,5.31,0,0,0,8.1,4.9,5.31,5.31,0,0,0,12,6.5,5.46,5.46,0,0,0,6.5,12Z\"/>\n",
              "  </svg>\n",
              "    </button>\n",
              "    <script>\n",
              "      (() => {\n",
              "      const buttonEl =\n",
              "        document.querySelector('#id_80e59173-c1f3-4f3e-a9cd-4ee1d6fb2468 button.colab-df-generate');\n",
              "      buttonEl.style.display =\n",
              "        google.colab.kernel.accessAllowed ? 'block' : 'none';\n",
              "\n",
              "      buttonEl.onclick = () => {\n",
              "        google.colab.notebook.generateWithVariable('spotify');\n",
              "      }\n",
              "      })();\n",
              "    </script>\n",
              "  </div>\n",
              "\n",
              "    </div>\n",
              "  </div>\n"
            ],
            "application/vnd.google.colaboratory.intrinsic+json": {
              "type": "dataframe",
              "variable_name": "spotify",
              "summary": "{\n  \"name\": \"spotify\",\n  \"rows\": 4600,\n  \"fields\": [\n    {\n      \"column\": \"Track\",\n      \"properties\": {\n        \"dtype\": \"string\",\n        \"num_unique_values\": 4370,\n        \"samples\": [\n          \"Welcome To The Party\",\n          \"FEEL\",\n          \"MHD: Bzrp Music Sessions, Vol. 44\"\n        ],\n        \"semantic_type\": \"\",\n        \"description\": \"\"\n      }\n    },\n    {\n      \"column\": \"Album Name\",\n      \"properties\": {\n        \"dtype\": \"string\",\n        \"num_unique_values\": 4005,\n        \"samples\": [\n          \"OA\",\n          \"Melly vs. Melvin\",\n          \"Dream Girl\"\n        ],\n        \"semantic_type\": \"\",\n        \"description\": \"\"\n      }\n    },\n    {\n      \"column\": \"Artist\",\n      \"properties\": {\n        \"dtype\": \"category\",\n        \"num_unique_values\": 2000,\n        \"samples\": [\n          \"Florida Georgia Line\",\n          \"ZWE1HVNDXR\",\n          \"Flo Rida\"\n        ],\n        \"semantic_type\": \"\",\n        \"description\": \"\"\n      }\n    },\n    {\n      \"column\": \"Release Date\",\n      \"properties\": {\n        \"dtype\": \"date\",\n        \"min\": \"1987-07-21 00:00:00\",\n        \"max\": \"2024-06-14 00:00:00\",\n        \"num_unique_values\": 1562,\n        \"samples\": [\n          \"2021-08-15 00:00:00\",\n          \"2022-08-22 00:00:00\",\n          \"2021-11-19 00:00:00\"\n        ],\n        \"semantic_type\": \"\",\n        \"description\": \"\"\n      }\n    },\n    {\n      \"column\": \"All Time Rank\",\n      \"properties\": {\n        \"dtype\": \"number\",\n        \"std\": 1322,\n        \"min\": 1,\n        \"max\": 4998,\n        \"num_unique_values\": 4577,\n        \"samples\": [\n          1642,\n          1655,\n          1507\n        ],\n        \"semantic_type\": \"\",\n        \"description\": \"\"\n      }\n    },\n    {\n      \"column\": \"Track Score\",\n      \"properties\": {\n        \"dtype\": \"number\",\n        \"std\": 38.5437657471553,\n        \"min\": 19.4,\n        \"max\": 725.4,\n        \"num_unique_values\": 862,\n        \"samples\": [\n          34.0,\n          45.0,\n          137.7\n        ],\n        \"semantic_type\": \"\",\n        \"description\": \"\"\n      }\n    },\n    {\n      \"column\": \"Spotify Streams\",\n      \"properties\": {\n        \"dtype\": \"number\",\n        \"std\": 536279234,\n        \"min\": 0,\n        \"max\": 4281468720,\n        \"num_unique_values\": 4426,\n        \"samples\": [\n          2830962669,\n          11393565,\n          867318774\n        ],\n        \"semantic_type\": \"\",\n        \"description\": \"\"\n      }\n    },\n    {\n      \"column\": \"Spotify Playlist Count\",\n      \"properties\": {\n        \"dtype\": \"number\",\n        \"std\": 70961,\n        \"min\": 0,\n        \"max\": 590392,\n        \"num_unique_values\": 4208,\n        \"samples\": [\n          361827,\n          99429,\n          128641\n        ],\n        \"semantic_type\": \"\",\n        \"description\": \"\"\n      }\n    },\n    {\n      \"column\": \"Spotify Playlist Reach\",\n      \"properties\": {\n        \"dtype\": \"number\",\n        \"std\": 29596118,\n        \"min\": 0,\n        \"max\": 262343414,\n        \"num_unique_values\": 4479,\n        \"samples\": [\n          378669,\n          13000565,\n          4711796\n        ],\n        \"semantic_type\": \"\",\n        \"description\": \"\"\n      }\n    },\n    {\n      \"column\": \"Spotify Popularity\",\n      \"properties\": {\n        \"dtype\": \"number\",\n        \"std\": 14.703661095158921,\n        \"min\": 1.0,\n        \"max\": 96.0,\n        \"num_unique_values\": 95,\n        \"samples\": [\n          7.0,\n          77.0,\n          49.0\n        ],\n        \"semantic_type\": \"\",\n        \"description\": \"\"\n      }\n    },\n    {\n      \"column\": \"YouTube Views\",\n      \"properties\": {\n        \"dtype\": \"number\",\n        \"std\": 685425124,\n        \"min\": 0,\n        \"max\": 16322756555,\n        \"num_unique_values\": 4291,\n        \"samples\": [\n          198494925,\n          99979912,\n          23143608\n        ],\n        \"semantic_type\": \"\",\n        \"description\": \"\"\n      }\n    },\n    {\n      \"column\": \"YouTube Likes\",\n      \"properties\": {\n        \"dtype\": \"number\",\n        \"std\": 4494883,\n        \"min\": 0,\n        \"max\": 62311179,\n        \"num_unique_values\": 4284,\n        \"samples\": [\n          461148,\n          3243360,\n          155660\n        ],\n        \"semantic_type\": \"\",\n        \"description\": \"\"\n      }\n    },\n    {\n      \"column\": \"TikTok Posts\",\n      \"properties\": {\n        \"dtype\": \"number\",\n        \"std\": 2147581,\n        \"min\": 0,\n        \"max\": 42900000,\n        \"num_unique_values\": 3319,\n        \"samples\": [\n          1780416,\n          2101619,\n          158366\n        ],\n        \"semantic_type\": \"\",\n        \"description\": \"\"\n      }\n    },\n    {\n      \"column\": \"TikTok Likes\",\n      \"properties\": {\n        \"dtype\": \"number\",\n        \"std\": 489903525,\n        \"min\": 0,\n        \"max\": 23474223833,\n        \"num_unique_values\": 3616,\n        \"samples\": [\n          18251968,\n          73578788,\n          3086204\n        ],\n        \"semantic_type\": \"\",\n        \"description\": \"\"\n      }\n    },\n    {\n      \"column\": \"TikTok Views\",\n      \"properties\": {\n        \"dtype\": \"number\",\n        \"std\": 5238353567,\n        \"min\": 0,\n        \"max\": 233232311463,\n        \"num_unique_values\": 3617,\n        \"samples\": [\n          2692316483,\n          19793657,\n          2500000\n        ],\n        \"semantic_type\": \"\",\n        \"description\": \"\"\n      }\n    }\n  ]\n}"
            }
          },
          "metadata": {},
          "execution_count": 49
        }
      ]
    },
    {
      "cell_type": "code",
      "source": [
        "spotify.info()"
      ],
      "metadata": {
        "colab": {
          "base_uri": "https://localhost:8080/"
        },
        "id": "NAbf8mi_TRsV",
        "outputId": "67acfd10-459d-422e-fc9a-4beeed9ea201"
      },
      "execution_count": 50,
      "outputs": [
        {
          "output_type": "stream",
          "name": "stdout",
          "text": [
            "<class 'pandas.core.frame.DataFrame'>\n",
            "RangeIndex: 4600 entries, 0 to 4599\n",
            "Data columns (total 15 columns):\n",
            " #   Column                  Non-Null Count  Dtype         \n",
            "---  ------                  --------------  -----         \n",
            " 0   Track                   4600 non-null   object        \n",
            " 1   Album Name              4600 non-null   object        \n",
            " 2   Artist                  4600 non-null   object        \n",
            " 3   Release Date            4600 non-null   datetime64[ns]\n",
            " 4   All Time Rank           4600 non-null   int64         \n",
            " 5   Track Score             4600 non-null   float64       \n",
            " 6   Spotify Streams         4600 non-null   int64         \n",
            " 7   Spotify Playlist Count  4600 non-null   int64         \n",
            " 8   Spotify Playlist Reach  4600 non-null   int64         \n",
            " 9   Spotify Popularity      4600 non-null   float64       \n",
            " 10  YouTube Views           4600 non-null   int64         \n",
            " 11  YouTube Likes           4600 non-null   int64         \n",
            " 12  TikTok Posts            4600 non-null   int64         \n",
            " 13  TikTok Likes            4600 non-null   int64         \n",
            " 14  TikTok Views            4600 non-null   int64         \n",
            "dtypes: datetime64[ns](1), float64(2), int64(9), object(3)\n",
            "memory usage: 539.2+ KB\n"
          ]
        }
      ]
    },
    {
      "cell_type": "markdown",
      "source": [
        "# **Data Analyisis**"
      ],
      "metadata": {
        "id": "snyWMc1MZwJ7"
      }
    },
    {
      "cell_type": "code",
      "source": [
        "spotify.head(5)"
      ],
      "metadata": {
        "colab": {
          "base_uri": "https://localhost:8080/",
          "height": 417
        },
        "id": "ZhP6DjPXXXe_",
        "outputId": "0d738f7c-e849-456d-ac05-4400e68a7411"
      },
      "execution_count": 51,
      "outputs": [
        {
          "output_type": "execute_result",
          "data": {
            "text/plain": [
              "                        Track                    Album Name          Artist  \\\n",
              "0         MILLION DOLLAR BABY  Million Dollar Baby - Single   Tommy Richman   \n",
              "1                 Not Like Us                   Not Like Us  Kendrick Lamar   \n",
              "2  i like the way you kiss me    I like the way you kiss me         Artemas   \n",
              "3                     Flowers              Flowers - Single     Miley Cyrus   \n",
              "4                     Houdini                       Houdini          Eminem   \n",
              "\n",
              "  Release Date  All Time Rank  Track Score  Spotify Streams  \\\n",
              "0   2024-04-26              1        725.4        390470936   \n",
              "1   2024-05-04              2        545.9        323703884   \n",
              "2   2024-03-19              3        538.4        601309283   \n",
              "3   2023-01-12              4        444.9       2031280633   \n",
              "4   2024-05-31              5        423.3        107034922   \n",
              "\n",
              "   Spotify Playlist Count  Spotify Playlist Reach  Spotify Popularity  \\\n",
              "0                   30716               196631588                92.0   \n",
              "1                   28113               174597137                92.0   \n",
              "2                   54331               211607669                92.0   \n",
              "3                  269802               136569078                85.0   \n",
              "4                    7223               151469874                88.0   \n",
              "\n",
              "   YouTube Views  YouTube Likes  TikTok Posts  TikTok Likes  TikTok Views  \n",
              "0       84274754        1713126       5767700     651565900    5332281936  \n",
              "1      116347040        3486739        674700      35223547     208339025  \n",
              "2      122599116        2228730       3025400     275154237    3369120610  \n",
              "3     1096100899       10629796       7189811    1078757968   14603725994  \n",
              "4       77373957        3670188         16400             0             0  "
            ],
            "text/html": [
              "\n",
              "  <div id=\"df-7a319b20-19e6-4e00-a363-2c81c5b37331\" class=\"colab-df-container\">\n",
              "    <div>\n",
              "<style scoped>\n",
              "    .dataframe tbody tr th:only-of-type {\n",
              "        vertical-align: middle;\n",
              "    }\n",
              "\n",
              "    .dataframe tbody tr th {\n",
              "        vertical-align: top;\n",
              "    }\n",
              "\n",
              "    .dataframe thead th {\n",
              "        text-align: right;\n",
              "    }\n",
              "</style>\n",
              "<table border=\"1\" class=\"dataframe\">\n",
              "  <thead>\n",
              "    <tr style=\"text-align: right;\">\n",
              "      <th></th>\n",
              "      <th>Track</th>\n",
              "      <th>Album Name</th>\n",
              "      <th>Artist</th>\n",
              "      <th>Release Date</th>\n",
              "      <th>All Time Rank</th>\n",
              "      <th>Track Score</th>\n",
              "      <th>Spotify Streams</th>\n",
              "      <th>Spotify Playlist Count</th>\n",
              "      <th>Spotify Playlist Reach</th>\n",
              "      <th>Spotify Popularity</th>\n",
              "      <th>YouTube Views</th>\n",
              "      <th>YouTube Likes</th>\n",
              "      <th>TikTok Posts</th>\n",
              "      <th>TikTok Likes</th>\n",
              "      <th>TikTok Views</th>\n",
              "    </tr>\n",
              "  </thead>\n",
              "  <tbody>\n",
              "    <tr>\n",
              "      <th>0</th>\n",
              "      <td>MILLION DOLLAR BABY</td>\n",
              "      <td>Million Dollar Baby - Single</td>\n",
              "      <td>Tommy Richman</td>\n",
              "      <td>2024-04-26</td>\n",
              "      <td>1</td>\n",
              "      <td>725.4</td>\n",
              "      <td>390470936</td>\n",
              "      <td>30716</td>\n",
              "      <td>196631588</td>\n",
              "      <td>92.0</td>\n",
              "      <td>84274754</td>\n",
              "      <td>1713126</td>\n",
              "      <td>5767700</td>\n",
              "      <td>651565900</td>\n",
              "      <td>5332281936</td>\n",
              "    </tr>\n",
              "    <tr>\n",
              "      <th>1</th>\n",
              "      <td>Not Like Us</td>\n",
              "      <td>Not Like Us</td>\n",
              "      <td>Kendrick Lamar</td>\n",
              "      <td>2024-05-04</td>\n",
              "      <td>2</td>\n",
              "      <td>545.9</td>\n",
              "      <td>323703884</td>\n",
              "      <td>28113</td>\n",
              "      <td>174597137</td>\n",
              "      <td>92.0</td>\n",
              "      <td>116347040</td>\n",
              "      <td>3486739</td>\n",
              "      <td>674700</td>\n",
              "      <td>35223547</td>\n",
              "      <td>208339025</td>\n",
              "    </tr>\n",
              "    <tr>\n",
              "      <th>2</th>\n",
              "      <td>i like the way you kiss me</td>\n",
              "      <td>I like the way you kiss me</td>\n",
              "      <td>Artemas</td>\n",
              "      <td>2024-03-19</td>\n",
              "      <td>3</td>\n",
              "      <td>538.4</td>\n",
              "      <td>601309283</td>\n",
              "      <td>54331</td>\n",
              "      <td>211607669</td>\n",
              "      <td>92.0</td>\n",
              "      <td>122599116</td>\n",
              "      <td>2228730</td>\n",
              "      <td>3025400</td>\n",
              "      <td>275154237</td>\n",
              "      <td>3369120610</td>\n",
              "    </tr>\n",
              "    <tr>\n",
              "      <th>3</th>\n",
              "      <td>Flowers</td>\n",
              "      <td>Flowers - Single</td>\n",
              "      <td>Miley Cyrus</td>\n",
              "      <td>2023-01-12</td>\n",
              "      <td>4</td>\n",
              "      <td>444.9</td>\n",
              "      <td>2031280633</td>\n",
              "      <td>269802</td>\n",
              "      <td>136569078</td>\n",
              "      <td>85.0</td>\n",
              "      <td>1096100899</td>\n",
              "      <td>10629796</td>\n",
              "      <td>7189811</td>\n",
              "      <td>1078757968</td>\n",
              "      <td>14603725994</td>\n",
              "    </tr>\n",
              "    <tr>\n",
              "      <th>4</th>\n",
              "      <td>Houdini</td>\n",
              "      <td>Houdini</td>\n",
              "      <td>Eminem</td>\n",
              "      <td>2024-05-31</td>\n",
              "      <td>5</td>\n",
              "      <td>423.3</td>\n",
              "      <td>107034922</td>\n",
              "      <td>7223</td>\n",
              "      <td>151469874</td>\n",
              "      <td>88.0</td>\n",
              "      <td>77373957</td>\n",
              "      <td>3670188</td>\n",
              "      <td>16400</td>\n",
              "      <td>0</td>\n",
              "      <td>0</td>\n",
              "    </tr>\n",
              "  </tbody>\n",
              "</table>\n",
              "</div>\n",
              "    <div class=\"colab-df-buttons\">\n",
              "\n",
              "  <div class=\"colab-df-container\">\n",
              "    <button class=\"colab-df-convert\" onclick=\"convertToInteractive('df-7a319b20-19e6-4e00-a363-2c81c5b37331')\"\n",
              "            title=\"Convert this dataframe to an interactive table.\"\n",
              "            style=\"display:none;\">\n",
              "\n",
              "  <svg xmlns=\"http://www.w3.org/2000/svg\" height=\"24px\" viewBox=\"0 -960 960 960\">\n",
              "    <path d=\"M120-120v-720h720v720H120Zm60-500h600v-160H180v160Zm220 220h160v-160H400v160Zm0 220h160v-160H400v160ZM180-400h160v-160H180v160Zm440 0h160v-160H620v160ZM180-180h160v-160H180v160Zm440 0h160v-160H620v160Z\"/>\n",
              "  </svg>\n",
              "    </button>\n",
              "\n",
              "  <style>\n",
              "    .colab-df-container {\n",
              "      display:flex;\n",
              "      gap: 12px;\n",
              "    }\n",
              "\n",
              "    .colab-df-convert {\n",
              "      background-color: #E8F0FE;\n",
              "      border: none;\n",
              "      border-radius: 50%;\n",
              "      cursor: pointer;\n",
              "      display: none;\n",
              "      fill: #1967D2;\n",
              "      height: 32px;\n",
              "      padding: 0 0 0 0;\n",
              "      width: 32px;\n",
              "    }\n",
              "\n",
              "    .colab-df-convert:hover {\n",
              "      background-color: #E2EBFA;\n",
              "      box-shadow: 0px 1px 2px rgba(60, 64, 67, 0.3), 0px 1px 3px 1px rgba(60, 64, 67, 0.15);\n",
              "      fill: #174EA6;\n",
              "    }\n",
              "\n",
              "    .colab-df-buttons div {\n",
              "      margin-bottom: 4px;\n",
              "    }\n",
              "\n",
              "    [theme=dark] .colab-df-convert {\n",
              "      background-color: #3B4455;\n",
              "      fill: #D2E3FC;\n",
              "    }\n",
              "\n",
              "    [theme=dark] .colab-df-convert:hover {\n",
              "      background-color: #434B5C;\n",
              "      box-shadow: 0px 1px 3px 1px rgba(0, 0, 0, 0.15);\n",
              "      filter: drop-shadow(0px 1px 2px rgba(0, 0, 0, 0.3));\n",
              "      fill: #FFFFFF;\n",
              "    }\n",
              "  </style>\n",
              "\n",
              "    <script>\n",
              "      const buttonEl =\n",
              "        document.querySelector('#df-7a319b20-19e6-4e00-a363-2c81c5b37331 button.colab-df-convert');\n",
              "      buttonEl.style.display =\n",
              "        google.colab.kernel.accessAllowed ? 'block' : 'none';\n",
              "\n",
              "      async function convertToInteractive(key) {\n",
              "        const element = document.querySelector('#df-7a319b20-19e6-4e00-a363-2c81c5b37331');\n",
              "        const dataTable =\n",
              "          await google.colab.kernel.invokeFunction('convertToInteractive',\n",
              "                                                    [key], {});\n",
              "        if (!dataTable) return;\n",
              "\n",
              "        const docLinkHtml = 'Like what you see? Visit the ' +\n",
              "          '<a target=\"_blank\" href=https://colab.research.google.com/notebooks/data_table.ipynb>data table notebook</a>'\n",
              "          + ' to learn more about interactive tables.';\n",
              "        element.innerHTML = '';\n",
              "        dataTable['output_type'] = 'display_data';\n",
              "        await google.colab.output.renderOutput(dataTable, element);\n",
              "        const docLink = document.createElement('div');\n",
              "        docLink.innerHTML = docLinkHtml;\n",
              "        element.appendChild(docLink);\n",
              "      }\n",
              "    </script>\n",
              "  </div>\n",
              "\n",
              "\n",
              "<div id=\"df-a4ab2268-e74c-44b9-980e-c8002bbab342\">\n",
              "  <button class=\"colab-df-quickchart\" onclick=\"quickchart('df-a4ab2268-e74c-44b9-980e-c8002bbab342')\"\n",
              "            title=\"Suggest charts\"\n",
              "            style=\"display:none;\">\n",
              "\n",
              "<svg xmlns=\"http://www.w3.org/2000/svg\" height=\"24px\"viewBox=\"0 0 24 24\"\n",
              "     width=\"24px\">\n",
              "    <g>\n",
              "        <path d=\"M19 3H5c-1.1 0-2 .9-2 2v14c0 1.1.9 2 2 2h14c1.1 0 2-.9 2-2V5c0-1.1-.9-2-2-2zM9 17H7v-7h2v7zm4 0h-2V7h2v10zm4 0h-2v-4h2v4z\"/>\n",
              "    </g>\n",
              "</svg>\n",
              "  </button>\n",
              "\n",
              "<style>\n",
              "  .colab-df-quickchart {\n",
              "      --bg-color: #E8F0FE;\n",
              "      --fill-color: #1967D2;\n",
              "      --hover-bg-color: #E2EBFA;\n",
              "      --hover-fill-color: #174EA6;\n",
              "      --disabled-fill-color: #AAA;\n",
              "      --disabled-bg-color: #DDD;\n",
              "  }\n",
              "\n",
              "  [theme=dark] .colab-df-quickchart {\n",
              "      --bg-color: #3B4455;\n",
              "      --fill-color: #D2E3FC;\n",
              "      --hover-bg-color: #434B5C;\n",
              "      --hover-fill-color: #FFFFFF;\n",
              "      --disabled-bg-color: #3B4455;\n",
              "      --disabled-fill-color: #666;\n",
              "  }\n",
              "\n",
              "  .colab-df-quickchart {\n",
              "    background-color: var(--bg-color);\n",
              "    border: none;\n",
              "    border-radius: 50%;\n",
              "    cursor: pointer;\n",
              "    display: none;\n",
              "    fill: var(--fill-color);\n",
              "    height: 32px;\n",
              "    padding: 0;\n",
              "    width: 32px;\n",
              "  }\n",
              "\n",
              "  .colab-df-quickchart:hover {\n",
              "    background-color: var(--hover-bg-color);\n",
              "    box-shadow: 0 1px 2px rgba(60, 64, 67, 0.3), 0 1px 3px 1px rgba(60, 64, 67, 0.15);\n",
              "    fill: var(--button-hover-fill-color);\n",
              "  }\n",
              "\n",
              "  .colab-df-quickchart-complete:disabled,\n",
              "  .colab-df-quickchart-complete:disabled:hover {\n",
              "    background-color: var(--disabled-bg-color);\n",
              "    fill: var(--disabled-fill-color);\n",
              "    box-shadow: none;\n",
              "  }\n",
              "\n",
              "  .colab-df-spinner {\n",
              "    border: 2px solid var(--fill-color);\n",
              "    border-color: transparent;\n",
              "    border-bottom-color: var(--fill-color);\n",
              "    animation:\n",
              "      spin 1s steps(1) infinite;\n",
              "  }\n",
              "\n",
              "  @keyframes spin {\n",
              "    0% {\n",
              "      border-color: transparent;\n",
              "      border-bottom-color: var(--fill-color);\n",
              "      border-left-color: var(--fill-color);\n",
              "    }\n",
              "    20% {\n",
              "      border-color: transparent;\n",
              "      border-left-color: var(--fill-color);\n",
              "      border-top-color: var(--fill-color);\n",
              "    }\n",
              "    30% {\n",
              "      border-color: transparent;\n",
              "      border-left-color: var(--fill-color);\n",
              "      border-top-color: var(--fill-color);\n",
              "      border-right-color: var(--fill-color);\n",
              "    }\n",
              "    40% {\n",
              "      border-color: transparent;\n",
              "      border-right-color: var(--fill-color);\n",
              "      border-top-color: var(--fill-color);\n",
              "    }\n",
              "    60% {\n",
              "      border-color: transparent;\n",
              "      border-right-color: var(--fill-color);\n",
              "    }\n",
              "    80% {\n",
              "      border-color: transparent;\n",
              "      border-right-color: var(--fill-color);\n",
              "      border-bottom-color: var(--fill-color);\n",
              "    }\n",
              "    90% {\n",
              "      border-color: transparent;\n",
              "      border-bottom-color: var(--fill-color);\n",
              "    }\n",
              "  }\n",
              "</style>\n",
              "\n",
              "  <script>\n",
              "    async function quickchart(key) {\n",
              "      const quickchartButtonEl =\n",
              "        document.querySelector('#' + key + ' button');\n",
              "      quickchartButtonEl.disabled = true;  // To prevent multiple clicks.\n",
              "      quickchartButtonEl.classList.add('colab-df-spinner');\n",
              "      try {\n",
              "        const charts = await google.colab.kernel.invokeFunction(\n",
              "            'suggestCharts', [key], {});\n",
              "      } catch (error) {\n",
              "        console.error('Error during call to suggestCharts:', error);\n",
              "      }\n",
              "      quickchartButtonEl.classList.remove('colab-df-spinner');\n",
              "      quickchartButtonEl.classList.add('colab-df-quickchart-complete');\n",
              "    }\n",
              "    (() => {\n",
              "      let quickchartButtonEl =\n",
              "        document.querySelector('#df-a4ab2268-e74c-44b9-980e-c8002bbab342 button');\n",
              "      quickchartButtonEl.style.display =\n",
              "        google.colab.kernel.accessAllowed ? 'block' : 'none';\n",
              "    })();\n",
              "  </script>\n",
              "</div>\n",
              "\n",
              "    </div>\n",
              "  </div>\n"
            ],
            "application/vnd.google.colaboratory.intrinsic+json": {
              "type": "dataframe",
              "variable_name": "spotify",
              "summary": "{\n  \"name\": \"spotify\",\n  \"rows\": 4600,\n  \"fields\": [\n    {\n      \"column\": \"Track\",\n      \"properties\": {\n        \"dtype\": \"string\",\n        \"num_unique_values\": 4370,\n        \"samples\": [\n          \"Welcome To The Party\",\n          \"FEEL\",\n          \"MHD: Bzrp Music Sessions, Vol. 44\"\n        ],\n        \"semantic_type\": \"\",\n        \"description\": \"\"\n      }\n    },\n    {\n      \"column\": \"Album Name\",\n      \"properties\": {\n        \"dtype\": \"string\",\n        \"num_unique_values\": 4005,\n        \"samples\": [\n          \"OA\",\n          \"Melly vs. Melvin\",\n          \"Dream Girl\"\n        ],\n        \"semantic_type\": \"\",\n        \"description\": \"\"\n      }\n    },\n    {\n      \"column\": \"Artist\",\n      \"properties\": {\n        \"dtype\": \"category\",\n        \"num_unique_values\": 2000,\n        \"samples\": [\n          \"Florida Georgia Line\",\n          \"ZWE1HVNDXR\",\n          \"Flo Rida\"\n        ],\n        \"semantic_type\": \"\",\n        \"description\": \"\"\n      }\n    },\n    {\n      \"column\": \"Release Date\",\n      \"properties\": {\n        \"dtype\": \"date\",\n        \"min\": \"1987-07-21 00:00:00\",\n        \"max\": \"2024-06-14 00:00:00\",\n        \"num_unique_values\": 1562,\n        \"samples\": [\n          \"2021-08-15 00:00:00\",\n          \"2022-08-22 00:00:00\",\n          \"2021-11-19 00:00:00\"\n        ],\n        \"semantic_type\": \"\",\n        \"description\": \"\"\n      }\n    },\n    {\n      \"column\": \"All Time Rank\",\n      \"properties\": {\n        \"dtype\": \"number\",\n        \"std\": 1322,\n        \"min\": 1,\n        \"max\": 4998,\n        \"num_unique_values\": 4577,\n        \"samples\": [\n          1642,\n          1655,\n          1507\n        ],\n        \"semantic_type\": \"\",\n        \"description\": \"\"\n      }\n    },\n    {\n      \"column\": \"Track Score\",\n      \"properties\": {\n        \"dtype\": \"number\",\n        \"std\": 38.5437657471553,\n        \"min\": 19.4,\n        \"max\": 725.4,\n        \"num_unique_values\": 862,\n        \"samples\": [\n          34.0,\n          45.0,\n          137.7\n        ],\n        \"semantic_type\": \"\",\n        \"description\": \"\"\n      }\n    },\n    {\n      \"column\": \"Spotify Streams\",\n      \"properties\": {\n        \"dtype\": \"number\",\n        \"std\": 536279234,\n        \"min\": 0,\n        \"max\": 4281468720,\n        \"num_unique_values\": 4426,\n        \"samples\": [\n          2830962669,\n          11393565,\n          867318774\n        ],\n        \"semantic_type\": \"\",\n        \"description\": \"\"\n      }\n    },\n    {\n      \"column\": \"Spotify Playlist Count\",\n      \"properties\": {\n        \"dtype\": \"number\",\n        \"std\": 70961,\n        \"min\": 0,\n        \"max\": 590392,\n        \"num_unique_values\": 4208,\n        \"samples\": [\n          361827,\n          99429,\n          128641\n        ],\n        \"semantic_type\": \"\",\n        \"description\": \"\"\n      }\n    },\n    {\n      \"column\": \"Spotify Playlist Reach\",\n      \"properties\": {\n        \"dtype\": \"number\",\n        \"std\": 29596118,\n        \"min\": 0,\n        \"max\": 262343414,\n        \"num_unique_values\": 4479,\n        \"samples\": [\n          378669,\n          13000565,\n          4711796\n        ],\n        \"semantic_type\": \"\",\n        \"description\": \"\"\n      }\n    },\n    {\n      \"column\": \"Spotify Popularity\",\n      \"properties\": {\n        \"dtype\": \"number\",\n        \"std\": 14.703661095158921,\n        \"min\": 1.0,\n        \"max\": 96.0,\n        \"num_unique_values\": 95,\n        \"samples\": [\n          7.0,\n          77.0,\n          49.0\n        ],\n        \"semantic_type\": \"\",\n        \"description\": \"\"\n      }\n    },\n    {\n      \"column\": \"YouTube Views\",\n      \"properties\": {\n        \"dtype\": \"number\",\n        \"std\": 685425124,\n        \"min\": 0,\n        \"max\": 16322756555,\n        \"num_unique_values\": 4291,\n        \"samples\": [\n          198494925,\n          99979912,\n          23143608\n        ],\n        \"semantic_type\": \"\",\n        \"description\": \"\"\n      }\n    },\n    {\n      \"column\": \"YouTube Likes\",\n      \"properties\": {\n        \"dtype\": \"number\",\n        \"std\": 4494883,\n        \"min\": 0,\n        \"max\": 62311179,\n        \"num_unique_values\": 4284,\n        \"samples\": [\n          461148,\n          3243360,\n          155660\n        ],\n        \"semantic_type\": \"\",\n        \"description\": \"\"\n      }\n    },\n    {\n      \"column\": \"TikTok Posts\",\n      \"properties\": {\n        \"dtype\": \"number\",\n        \"std\": 2147581,\n        \"min\": 0,\n        \"max\": 42900000,\n        \"num_unique_values\": 3319,\n        \"samples\": [\n          1780416,\n          2101619,\n          158366\n        ],\n        \"semantic_type\": \"\",\n        \"description\": \"\"\n      }\n    },\n    {\n      \"column\": \"TikTok Likes\",\n      \"properties\": {\n        \"dtype\": \"number\",\n        \"std\": 489903525,\n        \"min\": 0,\n        \"max\": 23474223833,\n        \"num_unique_values\": 3616,\n        \"samples\": [\n          18251968,\n          73578788,\n          3086204\n        ],\n        \"semantic_type\": \"\",\n        \"description\": \"\"\n      }\n    },\n    {\n      \"column\": \"TikTok Views\",\n      \"properties\": {\n        \"dtype\": \"number\",\n        \"std\": 5238353567,\n        \"min\": 0,\n        \"max\": 233232311463,\n        \"num_unique_values\": 3617,\n        \"samples\": [\n          2692316483,\n          19793657,\n          2500000\n        ],\n        \"semantic_type\": \"\",\n        \"description\": \"\"\n      }\n    }\n  ]\n}"
            }
          },
          "metadata": {},
          "execution_count": 51
        }
      ]
    },
    {
      "cell_type": "markdown",
      "source": [
        "# Level Easy"
      ],
      "metadata": {
        "id": "ZawFkV4heDcB"
      }
    },
    {
      "cell_type": "markdown",
      "source": [
        "### 1. Analisis artis dengan rata-rata Spotify Streams tertinggi"
      ],
      "metadata": {
        "id": "YJwicHkTbI91"
      }
    },
    {
      "cell_type": "code",
      "source": [
        "spotify.groupby('Artist')['Spotify Streams'].mean().idxmax()"
      ],
      "metadata": {
        "colab": {
          "base_uri": "https://localhost:8080/",
          "height": 35
        },
        "id": "WxAtdiH9aB_1",
        "outputId": "1b21332e-e329-483f-bf9d-6e90ca85dc95"
      },
      "execution_count": 52,
      "outputs": [
        {
          "output_type": "execute_result",
          "data": {
            "text/plain": [
              "'xSyborg'"
            ],
            "application/vnd.google.colaboratory.intrinsic+json": {
              "type": "string"
            }
          },
          "metadata": {},
          "execution_count": 52
        }
      ]
    },
    {
      "cell_type": "markdown",
      "source": [
        "So that max in Artist in Spotify Stream is xSyborg"
      ],
      "metadata": {
        "id": "545oL6CVRKqc"
      }
    },
    {
      "cell_type": "markdown",
      "source": [
        "### 2. Temukan album dengan YouTube Views tertinggi."
      ],
      "metadata": {
        "id": "W6UwncmzcGXk"
      }
    },
    {
      "cell_type": "code",
      "source": [
        "spotify.loc[spotify['YouTube Views'].idxmax(), 'Album Name']"
      ],
      "metadata": {
        "colab": {
          "base_uri": "https://localhost:8080/",
          "height": 35
        },
        "id": "Vg3KFnHjbr0c",
        "outputId": "4e79cf6a-1111-4c94-e1a8-340895571762"
      },
      "execution_count": 53,
      "outputs": [
        {
          "output_type": "execute_result",
          "data": {
            "text/plain": [
              "'ýýýýýýýýý ýýýýýý ýýýýýýýýýýýý'"
            ],
            "application/vnd.google.colaboratory.intrinsic+json": {
              "type": "string"
            }
          },
          "metadata": {},
          "execution_count": 53
        }
      ]
    },
    {
      "cell_type": "markdown",
      "source": [
        "So that max in Youtube Views in Album Name ýýýýýýýýý ýýýýýý ýýýýýýýýýýýý"
      ],
      "metadata": {
        "id": "VQgzKZohRaL6"
      }
    },
    {
      "cell_type": "markdown",
      "source": [
        "### 3. Hitung total TikTok Likes untuk semua lagu.\n"
      ],
      "metadata": {
        "id": "h6YLUNNicrdT"
      }
    },
    {
      "cell_type": "code",
      "source": [
        "spotify['TikTok Likes'].sum()"
      ],
      "metadata": {
        "colab": {
          "base_uri": "https://localhost:8080/"
        },
        "id": "nSUsLn4ich6B",
        "outputId": "d4bda982-c770-484f-ae70-33f4c824b4cb"
      },
      "execution_count": 54,
      "outputs": [
        {
          "output_type": "execute_result",
          "data": {
            "text/plain": [
              "407747621748"
            ]
          },
          "metadata": {},
          "execution_count": 54
        }
      ]
    },
    {
      "cell_type": "markdown",
      "source": [
        "So likes in TikTok Likes total 407747621748"
      ],
      "metadata": {
        "id": "yHNr_q8cR7a-"
      }
    },
    {
      "cell_type": "markdown",
      "source": [
        "### 4. Tentukan track dengan Track Score tertinggi dan artisnya.\n"
      ],
      "metadata": {
        "id": "SOK8oLh2c8er"
      }
    },
    {
      "cell_type": "code",
      "source": [
        "spotify.loc[spotify['Track Score'].idxmax(), ['Track', 'Artist']]"
      ],
      "metadata": {
        "colab": {
          "base_uri": "https://localhost:8080/"
        },
        "id": "7VjnVegJcZMD",
        "outputId": "cba9507b-fbe3-4547-d5c7-1f326b1dd288"
      },
      "execution_count": 55,
      "outputs": [
        {
          "output_type": "execute_result",
          "data": {
            "text/plain": [
              "Track     MILLION DOLLAR BABY\n",
              "Artist          Tommy Richman\n",
              "Name: 0, dtype: object"
            ]
          },
          "metadata": {},
          "execution_count": 55
        }
      ]
    },
    {
      "cell_type": "markdown",
      "source": [
        "So Track Score Highest MILLION DOLLAR BABY and Artist name Tommy Richman"
      ],
      "metadata": {
        "id": "mKGM8WLASLJ_"
      }
    },
    {
      "cell_type": "markdown",
      "source": [
        "### 5. Cari tahu rata-rata Spotify Popularity dari semua track.\n"
      ],
      "metadata": {
        "id": "CnDqNCSkdaiV"
      }
    },
    {
      "cell_type": "code",
      "source": [
        "spotify['Spotify Popularity'].mean()"
      ],
      "metadata": {
        "colab": {
          "base_uri": "https://localhost:8080/"
        },
        "id": "oSsKTorQdO8m",
        "outputId": "c48cfb28-d158-47ab-f54b-449f35bd363e"
      },
      "execution_count": 56,
      "outputs": [
        {
          "output_type": "execute_result",
          "data": {
            "text/plain": [
              "63.50158061116964"
            ]
          },
          "metadata": {},
          "execution_count": 56
        }
      ]
    },
    {
      "cell_type": "markdown",
      "source": [
        "So avarage in popularity in Spotify 63.5"
      ],
      "metadata": {
        "id": "MykvtOM0Xios"
      }
    },
    {
      "cell_type": "markdown",
      "source": [
        "### 6. Identifikasi track dengan jumlah YouTube Likes terbanyak per jumlah YouTube Views."
      ],
      "metadata": {
        "id": "v6s86oi8dkBV"
      }
    },
    {
      "cell_type": "code",
      "source": [
        "(spotify['YouTube Likes'] / spotify['YouTube Views']).idxmax()"
      ],
      "metadata": {
        "colab": {
          "base_uri": "https://localhost:8080/"
        },
        "id": "dKnmMHJtdfhQ",
        "outputId": "9269aee7-e759-4120-9c3f-a2c3b795207b"
      },
      "execution_count": 57,
      "outputs": [
        {
          "output_type": "execute_result",
          "data": {
            "text/plain": [
              "1957"
            ]
          },
          "metadata": {},
          "execution_count": 57
        }
      ]
    },
    {
      "cell_type": "markdown",
      "source": [
        "So YouTube Likes for Youtube Views highest in 1957"
      ],
      "metadata": {
        "id": "lkWhY5tgXvBB"
      }
    },
    {
      "cell_type": "markdown",
      "source": [
        "### 7. Hitung total Spotify Playlist Reach untuk semua track.\n"
      ],
      "metadata": {
        "id": "ywpDzI8PeJDH"
      }
    },
    {
      "cell_type": "code",
      "source": [
        "spotify['Spotify Playlist Reach'].sum()"
      ],
      "metadata": {
        "colab": {
          "base_uri": "https://localhost:8080/"
        },
        "id": "r1yLKHrIdoAi",
        "outputId": "f67e7a49-6bf9-4b8c-db83-db10aee08737"
      },
      "execution_count": 58,
      "outputs": [
        {
          "output_type": "execute_result",
          "data": {
            "text/plain": [
              "105714383098"
            ]
          },
          "metadata": {},
          "execution_count": 58
        }
      ]
    },
    {
      "cell_type": "markdown",
      "source": [
        "Total in Spotify Playlist Reach in the amount of 105714383098"
      ],
      "metadata": {
        "id": "0E7kD3LbYrAu"
      }
    },
    {
      "cell_type": "markdown",
      "source": [
        "### 8. Cari tahu track yang paling banyak diposting di TikTok.\n"
      ],
      "metadata": {
        "id": "li1WaTUcePtL"
      }
    },
    {
      "cell_type": "code",
      "source": [
        "spotify.loc[spotify['TikTok Posts'].idxmax(), 'Track']"
      ],
      "metadata": {
        "colab": {
          "base_uri": "https://localhost:8080/",
          "height": 35
        },
        "id": "v-4g5p_NeL9b",
        "outputId": "ee193e1c-0a33-444e-d512-298c26fef87b"
      },
      "execution_count": 59,
      "outputs": [
        {
          "output_type": "execute_result",
          "data": {
            "text/plain": [
              "'Laxed ï¿½ï¿½ï¿½ Sire'"
            ],
            "application/vnd.google.colaboratory.intrinsic+json": {
              "type": "string"
            }
          },
          "metadata": {},
          "execution_count": 59
        }
      ]
    },
    {
      "cell_type": "markdown",
      "source": [
        "Total Track in Tiktok Posts highest in Laxed ï¿½ï¿½ï¿½ Sire"
      ],
      "metadata": {
        "id": "qXzyqrDeZHLy"
      }
    },
    {
      "cell_type": "markdown",
      "source": [
        "### 9. Temukan album dengan Track Score rata-rata tertinggi.\n"
      ],
      "metadata": {
        "id": "MeoRHbo7eW0t"
      }
    },
    {
      "cell_type": "code",
      "source": [
        "spotify.groupby('Album Name')['Track Score'].mean().idxmax()"
      ],
      "metadata": {
        "colab": {
          "base_uri": "https://localhost:8080/",
          "height": 35
        },
        "id": "Sl3Xwem_eUQv",
        "outputId": "247702e0-8434-40fd-d21b-624c20b11131"
      },
      "execution_count": 60,
      "outputs": [
        {
          "output_type": "execute_result",
          "data": {
            "text/plain": [
              "'Not Like Us'"
            ],
            "application/vnd.google.colaboratory.intrinsic+json": {
              "type": "string"
            }
          },
          "metadata": {},
          "execution_count": 60
        }
      ]
    },
    {
      "cell_type": "markdown",
      "source": [
        "For total Album Name with Track Score in mean highest, with Album Name Not Like Us"
      ],
      "metadata": {
        "id": "dikdSZLUZtWQ"
      }
    },
    {
      "cell_type": "markdown",
      "source": [
        "### 10. Tentukan track yang dirilis paling awal dan informasi artisnya.\n"
      ],
      "metadata": {
        "id": "PMWlxE0Aeh-H"
      }
    },
    {
      "cell_type": "code",
      "source": [
        "spotify.loc[spotify['Release Date'].idxmin(), ['Track', 'Artist']]"
      ],
      "metadata": {
        "colab": {
          "base_uri": "https://localhost:8080/"
        },
        "id": "sNOVy51aebUz",
        "outputId": "e7f3ddee-a3d5-4fed-902a-728894f56802"
      },
      "execution_count": 61,
      "outputs": [
        {
          "output_type": "execute_result",
          "data": {
            "text/plain": [
              "Track     Sweet Child O' Mine\n",
              "Artist          Guns N' Roses\n",
              "Name: 3978, dtype: object"
            ]
          },
          "metadata": {},
          "execution_count": 61
        }
      ]
    },
    {
      "cell_type": "markdown",
      "source": [
        "For Release Date in to Track Sweet Child O' Mine and Artist Name Guns N'Roses"
      ],
      "metadata": {
        "id": "fJvhgFQYaO4k"
      }
    },
    {
      "cell_type": "markdown",
      "source": [
        "# Level Medium"
      ],
      "metadata": {
        "id": "LSzRW27ZfNi6"
      }
    },
    {
      "cell_type": "markdown",
      "source": [
        "### 1. Analisis korelasi antara Spotify Streams dan YouTube Views.\n"
      ],
      "metadata": {
        "id": "5w5bQZftfR9E"
      }
    },
    {
      "cell_type": "code",
      "source": [
        "spotify[['Spotify Streams', 'YouTube Views']].corr()"
      ],
      "metadata": {
        "colab": {
          "base_uri": "https://localhost:8080/",
          "height": 112
        },
        "id": "FYzw8hilem4x",
        "outputId": "1218635f-cd6d-45cc-a250-6e2d078569bc"
      },
      "execution_count": 62,
      "outputs": [
        {
          "output_type": "execute_result",
          "data": {
            "text/plain": [
              "                 Spotify Streams  YouTube Views\n",
              "Spotify Streams         1.000000       0.417307\n",
              "YouTube Views           0.417307       1.000000"
            ],
            "text/html": [
              "\n",
              "  <div id=\"df-212d2366-331a-4e4a-9d37-cf73e6d49837\" class=\"colab-df-container\">\n",
              "    <div>\n",
              "<style scoped>\n",
              "    .dataframe tbody tr th:only-of-type {\n",
              "        vertical-align: middle;\n",
              "    }\n",
              "\n",
              "    .dataframe tbody tr th {\n",
              "        vertical-align: top;\n",
              "    }\n",
              "\n",
              "    .dataframe thead th {\n",
              "        text-align: right;\n",
              "    }\n",
              "</style>\n",
              "<table border=\"1\" class=\"dataframe\">\n",
              "  <thead>\n",
              "    <tr style=\"text-align: right;\">\n",
              "      <th></th>\n",
              "      <th>Spotify Streams</th>\n",
              "      <th>YouTube Views</th>\n",
              "    </tr>\n",
              "  </thead>\n",
              "  <tbody>\n",
              "    <tr>\n",
              "      <th>Spotify Streams</th>\n",
              "      <td>1.000000</td>\n",
              "      <td>0.417307</td>\n",
              "    </tr>\n",
              "    <tr>\n",
              "      <th>YouTube Views</th>\n",
              "      <td>0.417307</td>\n",
              "      <td>1.000000</td>\n",
              "    </tr>\n",
              "  </tbody>\n",
              "</table>\n",
              "</div>\n",
              "    <div class=\"colab-df-buttons\">\n",
              "\n",
              "  <div class=\"colab-df-container\">\n",
              "    <button class=\"colab-df-convert\" onclick=\"convertToInteractive('df-212d2366-331a-4e4a-9d37-cf73e6d49837')\"\n",
              "            title=\"Convert this dataframe to an interactive table.\"\n",
              "            style=\"display:none;\">\n",
              "\n",
              "  <svg xmlns=\"http://www.w3.org/2000/svg\" height=\"24px\" viewBox=\"0 -960 960 960\">\n",
              "    <path d=\"M120-120v-720h720v720H120Zm60-500h600v-160H180v160Zm220 220h160v-160H400v160Zm0 220h160v-160H400v160ZM180-400h160v-160H180v160Zm440 0h160v-160H620v160ZM180-180h160v-160H180v160Zm440 0h160v-160H620v160Z\"/>\n",
              "  </svg>\n",
              "    </button>\n",
              "\n",
              "  <style>\n",
              "    .colab-df-container {\n",
              "      display:flex;\n",
              "      gap: 12px;\n",
              "    }\n",
              "\n",
              "    .colab-df-convert {\n",
              "      background-color: #E8F0FE;\n",
              "      border: none;\n",
              "      border-radius: 50%;\n",
              "      cursor: pointer;\n",
              "      display: none;\n",
              "      fill: #1967D2;\n",
              "      height: 32px;\n",
              "      padding: 0 0 0 0;\n",
              "      width: 32px;\n",
              "    }\n",
              "\n",
              "    .colab-df-convert:hover {\n",
              "      background-color: #E2EBFA;\n",
              "      box-shadow: 0px 1px 2px rgba(60, 64, 67, 0.3), 0px 1px 3px 1px rgba(60, 64, 67, 0.15);\n",
              "      fill: #174EA6;\n",
              "    }\n",
              "\n",
              "    .colab-df-buttons div {\n",
              "      margin-bottom: 4px;\n",
              "    }\n",
              "\n",
              "    [theme=dark] .colab-df-convert {\n",
              "      background-color: #3B4455;\n",
              "      fill: #D2E3FC;\n",
              "    }\n",
              "\n",
              "    [theme=dark] .colab-df-convert:hover {\n",
              "      background-color: #434B5C;\n",
              "      box-shadow: 0px 1px 3px 1px rgba(0, 0, 0, 0.15);\n",
              "      filter: drop-shadow(0px 1px 2px rgba(0, 0, 0, 0.3));\n",
              "      fill: #FFFFFF;\n",
              "    }\n",
              "  </style>\n",
              "\n",
              "    <script>\n",
              "      const buttonEl =\n",
              "        document.querySelector('#df-212d2366-331a-4e4a-9d37-cf73e6d49837 button.colab-df-convert');\n",
              "      buttonEl.style.display =\n",
              "        google.colab.kernel.accessAllowed ? 'block' : 'none';\n",
              "\n",
              "      async function convertToInteractive(key) {\n",
              "        const element = document.querySelector('#df-212d2366-331a-4e4a-9d37-cf73e6d49837');\n",
              "        const dataTable =\n",
              "          await google.colab.kernel.invokeFunction('convertToInteractive',\n",
              "                                                    [key], {});\n",
              "        if (!dataTable) return;\n",
              "\n",
              "        const docLinkHtml = 'Like what you see? Visit the ' +\n",
              "          '<a target=\"_blank\" href=https://colab.research.google.com/notebooks/data_table.ipynb>data table notebook</a>'\n",
              "          + ' to learn more about interactive tables.';\n",
              "        element.innerHTML = '';\n",
              "        dataTable['output_type'] = 'display_data';\n",
              "        await google.colab.output.renderOutput(dataTable, element);\n",
              "        const docLink = document.createElement('div');\n",
              "        docLink.innerHTML = docLinkHtml;\n",
              "        element.appendChild(docLink);\n",
              "      }\n",
              "    </script>\n",
              "  </div>\n",
              "\n",
              "\n",
              "<div id=\"df-23afc1b6-4668-4bd6-a105-5682b44e7bac\">\n",
              "  <button class=\"colab-df-quickchart\" onclick=\"quickchart('df-23afc1b6-4668-4bd6-a105-5682b44e7bac')\"\n",
              "            title=\"Suggest charts\"\n",
              "            style=\"display:none;\">\n",
              "\n",
              "<svg xmlns=\"http://www.w3.org/2000/svg\" height=\"24px\"viewBox=\"0 0 24 24\"\n",
              "     width=\"24px\">\n",
              "    <g>\n",
              "        <path d=\"M19 3H5c-1.1 0-2 .9-2 2v14c0 1.1.9 2 2 2h14c1.1 0 2-.9 2-2V5c0-1.1-.9-2-2-2zM9 17H7v-7h2v7zm4 0h-2V7h2v10zm4 0h-2v-4h2v4z\"/>\n",
              "    </g>\n",
              "</svg>\n",
              "  </button>\n",
              "\n",
              "<style>\n",
              "  .colab-df-quickchart {\n",
              "      --bg-color: #E8F0FE;\n",
              "      --fill-color: #1967D2;\n",
              "      --hover-bg-color: #E2EBFA;\n",
              "      --hover-fill-color: #174EA6;\n",
              "      --disabled-fill-color: #AAA;\n",
              "      --disabled-bg-color: #DDD;\n",
              "  }\n",
              "\n",
              "  [theme=dark] .colab-df-quickchart {\n",
              "      --bg-color: #3B4455;\n",
              "      --fill-color: #D2E3FC;\n",
              "      --hover-bg-color: #434B5C;\n",
              "      --hover-fill-color: #FFFFFF;\n",
              "      --disabled-bg-color: #3B4455;\n",
              "      --disabled-fill-color: #666;\n",
              "  }\n",
              "\n",
              "  .colab-df-quickchart {\n",
              "    background-color: var(--bg-color);\n",
              "    border: none;\n",
              "    border-radius: 50%;\n",
              "    cursor: pointer;\n",
              "    display: none;\n",
              "    fill: var(--fill-color);\n",
              "    height: 32px;\n",
              "    padding: 0;\n",
              "    width: 32px;\n",
              "  }\n",
              "\n",
              "  .colab-df-quickchart:hover {\n",
              "    background-color: var(--hover-bg-color);\n",
              "    box-shadow: 0 1px 2px rgba(60, 64, 67, 0.3), 0 1px 3px 1px rgba(60, 64, 67, 0.15);\n",
              "    fill: var(--button-hover-fill-color);\n",
              "  }\n",
              "\n",
              "  .colab-df-quickchart-complete:disabled,\n",
              "  .colab-df-quickchart-complete:disabled:hover {\n",
              "    background-color: var(--disabled-bg-color);\n",
              "    fill: var(--disabled-fill-color);\n",
              "    box-shadow: none;\n",
              "  }\n",
              "\n",
              "  .colab-df-spinner {\n",
              "    border: 2px solid var(--fill-color);\n",
              "    border-color: transparent;\n",
              "    border-bottom-color: var(--fill-color);\n",
              "    animation:\n",
              "      spin 1s steps(1) infinite;\n",
              "  }\n",
              "\n",
              "  @keyframes spin {\n",
              "    0% {\n",
              "      border-color: transparent;\n",
              "      border-bottom-color: var(--fill-color);\n",
              "      border-left-color: var(--fill-color);\n",
              "    }\n",
              "    20% {\n",
              "      border-color: transparent;\n",
              "      border-left-color: var(--fill-color);\n",
              "      border-top-color: var(--fill-color);\n",
              "    }\n",
              "    30% {\n",
              "      border-color: transparent;\n",
              "      border-left-color: var(--fill-color);\n",
              "      border-top-color: var(--fill-color);\n",
              "      border-right-color: var(--fill-color);\n",
              "    }\n",
              "    40% {\n",
              "      border-color: transparent;\n",
              "      border-right-color: var(--fill-color);\n",
              "      border-top-color: var(--fill-color);\n",
              "    }\n",
              "    60% {\n",
              "      border-color: transparent;\n",
              "      border-right-color: var(--fill-color);\n",
              "    }\n",
              "    80% {\n",
              "      border-color: transparent;\n",
              "      border-right-color: var(--fill-color);\n",
              "      border-bottom-color: var(--fill-color);\n",
              "    }\n",
              "    90% {\n",
              "      border-color: transparent;\n",
              "      border-bottom-color: var(--fill-color);\n",
              "    }\n",
              "  }\n",
              "</style>\n",
              "\n",
              "  <script>\n",
              "    async function quickchart(key) {\n",
              "      const quickchartButtonEl =\n",
              "        document.querySelector('#' + key + ' button');\n",
              "      quickchartButtonEl.disabled = true;  // To prevent multiple clicks.\n",
              "      quickchartButtonEl.classList.add('colab-df-spinner');\n",
              "      try {\n",
              "        const charts = await google.colab.kernel.invokeFunction(\n",
              "            'suggestCharts', [key], {});\n",
              "      } catch (error) {\n",
              "        console.error('Error during call to suggestCharts:', error);\n",
              "      }\n",
              "      quickchartButtonEl.classList.remove('colab-df-spinner');\n",
              "      quickchartButtonEl.classList.add('colab-df-quickchart-complete');\n",
              "    }\n",
              "    (() => {\n",
              "      let quickchartButtonEl =\n",
              "        document.querySelector('#df-23afc1b6-4668-4bd6-a105-5682b44e7bac button');\n",
              "      quickchartButtonEl.style.display =\n",
              "        google.colab.kernel.accessAllowed ? 'block' : 'none';\n",
              "    })();\n",
              "  </script>\n",
              "</div>\n",
              "\n",
              "    </div>\n",
              "  </div>\n"
            ],
            "application/vnd.google.colaboratory.intrinsic+json": {
              "type": "dataframe",
              "summary": "{\n  \"name\": \"spotify[['Spotify Streams', 'YouTube Views']]\",\n  \"rows\": 2,\n  \"fields\": [\n    {\n      \"column\": \"Spotify Streams\",\n      \"properties\": {\n        \"dtype\": \"number\",\n        \"std\": 0.4120262018373859,\n        \"min\": 0.41730695730849454,\n        \"max\": 1.0,\n        \"num_unique_values\": 2,\n        \"samples\": [\n          0.41730695730849454,\n          1.0\n        ],\n        \"semantic_type\": \"\",\n        \"description\": \"\"\n      }\n    },\n    {\n      \"column\": \"YouTube Views\",\n      \"properties\": {\n        \"dtype\": \"number\",\n        \"std\": 0.4120262018373859,\n        \"min\": 0.41730695730849454,\n        \"max\": 1.0,\n        \"num_unique_values\": 2,\n        \"samples\": [\n          1.0,\n          0.41730695730849454\n        ],\n        \"semantic_type\": \"\",\n        \"description\": \"\"\n      }\n    }\n  ]\n}"
            }
          },
          "metadata": {},
          "execution_count": 62
        }
      ]
    },
    {
      "cell_type": "markdown",
      "source": [
        "### 2. Temukan artis dengan jumlah total TikTok Likes tertinggi.\n"
      ],
      "metadata": {
        "id": "rd_iOC2lfpv2"
      }
    },
    {
      "cell_type": "code",
      "source": [
        "spotify.groupby('Artist')['Spotify Streams'].mean().idxmax()"
      ],
      "metadata": {
        "colab": {
          "base_uri": "https://localhost:8080/",
          "height": 35
        },
        "id": "bD_pvrpxfXHf",
        "outputId": "16f91fe3-5562-446e-caf1-5ff4e48dc83b"
      },
      "execution_count": 63,
      "outputs": [
        {
          "output_type": "execute_result",
          "data": {
            "text/plain": [
              "'xSyborg'"
            ],
            "application/vnd.google.colaboratory.intrinsic+json": {
              "type": "string"
            }
          },
          "metadata": {},
          "execution_count": 63
        }
      ]
    },
    {
      "cell_type": "markdown",
      "source": [
        "### 3. Hitung median dari Spotify Playlist Reach.\n"
      ],
      "metadata": {
        "id": "tqnDEKaAgPCL"
      }
    },
    {
      "cell_type": "code",
      "source": [
        "spotify['Spotify Playlist Reach'].median()"
      ],
      "metadata": {
        "colab": {
          "base_uri": "https://localhost:8080/"
        },
        "id": "n64K2J1VfnMj",
        "outputId": "0b640998-d3f1-465f-a59d-00bf528c3c45"
      },
      "execution_count": 64,
      "outputs": [
        {
          "output_type": "execute_result",
          "data": {
            "text/plain": [
              "12877649.5"
            ]
          },
          "metadata": {},
          "execution_count": 64
        }
      ]
    },
    {
      "cell_type": "markdown",
      "source": [
        "### 4. Tentukan track dengan rasio tertinggi antara YouTube Likes dan TikTok Likes.\n"
      ],
      "metadata": {
        "id": "Z1TomQAnicwF"
      }
    },
    {
      "cell_type": "code",
      "source": [
        "(spotify['YouTube Likes'] / spotify['TikTok Likes']).idxmax()"
      ],
      "metadata": {
        "colab": {
          "base_uri": "https://localhost:8080/"
        },
        "id": "ASCX10fcgLr8",
        "outputId": "de3283eb-8319-4267-b468-989d0dabcca5"
      },
      "execution_count": 65,
      "outputs": [
        {
          "output_type": "execute_result",
          "data": {
            "text/plain": [
              "4"
            ]
          },
          "metadata": {},
          "execution_count": 65
        }
      ]
    },
    {
      "cell_type": "markdown",
      "source": [
        "###5. Cari tahu distribusi Spotify Popularity berdasarkan Track Score dalam bentuk histogram.\n"
      ],
      "metadata": {
        "id": "eVaVAgMTkg4f"
      }
    },
    {
      "cell_type": "code",
      "source": [
        "spotify[['Track Score', 'Spotify Popularity']].plot(kind='hist')"
      ],
      "metadata": {
        "colab": {
          "base_uri": "https://localhost:8080/",
          "height": 447
        },
        "id": "xDTNM7_bhwZt",
        "outputId": "8db22e81-ae7b-4146-f411-3c6689360954"
      },
      "execution_count": 66,
      "outputs": [
        {
          "output_type": "execute_result",
          "data": {
            "text/plain": [
              "<Axes: ylabel='Frequency'>"
            ]
          },
          "metadata": {},
          "execution_count": 66
        },
        {
          "output_type": "display_data",
          "data": {
            "text/plain": [
              "<Figure size 640x480 with 1 Axes>"
            ],
            "image/png": "[encoded data removed]"
          },
          "metadata": {}
        }
      ]
    },
    {
      "cell_type": "markdown",
      "source": [
        "### 6. Identifikasi tahun dengan jumlah rilis track terbanyak.\n"
      ],
      "metadata": {
        "id": "Hl7bE0o6l7MW"
      }
    },
    {
      "cell_type": "code",
      "source": [
        "# Convert 'Release Date' to string type before using .str accessor\n",
        "spotify['Release Date'] = spotify['Release Date'].astype(str)\n",
        "spotify['Release Date'].str[:4].mode()[0]"
      ],
      "metadata": {
        "colab": {
          "base_uri": "https://localhost:8080/",
          "height": 35
        },
        "id": "RcuEZdqvjOhv",
        "outputId": "51d1dcba-3c72-419d-9099-f363c4bd7226"
      },
      "execution_count": 67,
      "outputs": [
        {
          "output_type": "execute_result",
          "data": {
            "text/plain": [
              "'2023'"
            ],
            "application/vnd.google.colaboratory.intrinsic+json": {
              "type": "string"
            }
          },
          "metadata": {},
          "execution_count": 67
        }
      ]
    },
    {
      "cell_type": "markdown",
      "source": [
        "### 7. Hitung persentase track yang memiliki Spotify Popularity di atas 80.\n"
      ],
      "metadata": {
        "id": "1qkZKIXVmUAk"
      }
    },
    {
      "cell_type": "code",
      "source": [
        "(spotify[spotify['Spotify Popularity'] > 80].shape[0] / spotify.shape[0]) * 100"
      ],
      "metadata": {
        "colab": {
          "base_uri": "https://localhost:8080/"
        },
        "id": "ROGq8yimksJv",
        "outputId": "7fe182fe-725a-4158-9e12-0e9ff2a57055"
      },
      "execution_count": 68,
      "outputs": [
        {
          "output_type": "execute_result",
          "data": {
            "text/plain": [
              "3.6086956521739126"
            ]
          },
          "metadata": {},
          "execution_count": 68
        }
      ]
    },
    {
      "cell_type": "markdown",
      "source": [
        "### 8. Temukan album dengan rasio Spotify Streams tertinggi terhadap All Time Rank.\n"
      ],
      "metadata": {
        "id": "MBlJCyLgnFOC"
      }
    },
    {
      "cell_type": "code",
      "source": [
        "(spotify['Spotify Streams'] / spotify['All Time Rank']).idxmax()"
      ],
      "metadata": {
        "colab": {
          "base_uri": "https://localhost:8080/"
        },
        "id": "R1wvW2i8mPPK",
        "outputId": "b8399432-fd4a-4124-f4a2-dfbaeac83cc6"
      },
      "execution_count": 69,
      "outputs": [
        {
          "output_type": "execute_result",
          "data": {
            "text/plain": [
              "3"
            ]
          },
          "metadata": {},
          "execution_count": 69
        }
      ]
    },
    {
      "cell_type": "code",
      "source": [
        "spotify.iloc[3]"
      ],
      "metadata": {
        "colab": {
          "base_uri": "https://localhost:8080/"
        },
        "id": "Nhji6uewnIFh",
        "outputId": "4361cdde-8a18-4976-b498-576f07ca5250"
      },
      "execution_count": 70,
      "outputs": [
        {
          "output_type": "execute_result",
          "data": {
            "text/plain": [
              "Track                              Flowers\n",
              "Album Name                Flowers - Single\n",
              "Artist                         Miley Cyrus\n",
              "Release Date                    2023-01-12\n",
              "All Time Rank                            4\n",
              "Track Score                          444.9\n",
              "Spotify Streams                 2031280633\n",
              "Spotify Playlist Count              269802\n",
              "Spotify Playlist Reach           136569078\n",
              "Spotify Popularity                    85.0\n",
              "YouTube Views                   1096100899\n",
              "YouTube Likes                     10629796\n",
              "TikTok Posts                       7189811\n",
              "TikTok Likes                    1078757968\n",
              "TikTok Views                   14603725994\n",
              "Name: 3, dtype: object"
            ]
          },
          "metadata": {},
          "execution_count": 70
        }
      ]
    },
    {
      "cell_type": "markdown",
      "source": [
        "###9. Analisis tren TikTok Views berdasarkan tahun rilis track.\n"
      ],
      "metadata": {
        "id": "Sw2gDYI9oUZO"
      }
    },
    {
      "cell_type": "code",
      "source": [
        "spotify['Release Date'] = spotify['Release Date'].astype(str)\n",
        "spotify.groupby(spotify['Release Date'].str[:4])['TikTok Views'].sum().plot(kind='line')"
      ],
      "metadata": {
        "colab": {
          "base_uri": "https://localhost:8080/",
          "height": 482
        },
        "id": "pTmw_uxkmug9",
        "outputId": "1697e759-3de9-4b24-8217-61cbb6161734"
      },
      "execution_count": 71,
      "outputs": [
        {
          "output_type": "execute_result",
          "data": {
            "text/plain": [
              "<Axes: xlabel='Release Date'>"
            ]
          },
          "metadata": {},
          "execution_count": 71
        },
        {
          "output_type": "display_data",
          "data": {
            "text/plain": [
              "<Figure size 640x480 with 1 Axes>"
            ],
            "image/png": "[encoded data removed]"
          },
          "metadata": {}
        }
      ]
    },
    {
      "cell_type": "markdown",
      "source": [
        "### 10. Tentukan artis yang memiliki track dengan jumlah YouTube Views tertinggi dan track tersebut.\n"
      ],
      "metadata": {
        "id": "4HKtyrV0o_cZ"
      }
    },
    {
      "cell_type": "code",
      "source": [
        "spotify.loc[spotify['YouTube Views'].idxmax(), ['Track', 'Artist']]"
      ],
      "metadata": {
        "colab": {
          "base_uri": "https://localhost:8080/"
        },
        "id": "7JCKNCgJnmhK",
        "outputId": "d3cdb392-fe81-48db-e635-c4e62bb6c5b6"
      },
      "execution_count": 72,
      "outputs": [
        {
          "output_type": "execute_result",
          "data": {
            "text/plain": [
              "Track     Baby Shark\n",
              "Artist      Pinkfong\n",
              "Name: 27, dtype: object"
            ]
          },
          "metadata": {},
          "execution_count": 72
        }
      ]
    },
    {
      "cell_type": "code",
      "source": [
        "spotify = pd.DataFrame(spotify)\n",
        "\n",
        "# Simpan DataFrame ke CSV\n",
        "spotify.to_csv('Spotify Fix.csv', index=False)"
      ],
      "metadata": {
        "id": "S-ivieLvopcL"
      },
      "execution_count": 73,
      "outputs": []
    }
  ]
}